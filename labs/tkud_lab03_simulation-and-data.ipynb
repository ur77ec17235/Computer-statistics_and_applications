{
 "cells": [
  {
   "cell_type": "markdown",
   "metadata": {},
   "source": [
    "# Simulation - Mô phỏng & Dữ liệu\n",
    "\n",
    "Trong bài thực hành này, chúng ta sẽ sử dụng python và numpy để tính toán và thực hiện một số mô phỏng.\n",
    "\n",
    "Những nội dung sẽ thực hiện trong tài liệu này:\n",
    "\n",
    "- Mô phỏng dữ liệu\n",
    "- Kiểm tra dữ liệu\n"
   ]
  },
  {
   "cell_type": "markdown",
   "metadata": {},
   "source": [
    "## MÔ PHỎNG"
   ]
  },
  {
   "cell_type": "markdown",
   "metadata": {},
   "source": [
    "### Bài 1: Mô phỏng tung đồng xu cân đối\n",
    "\n",
    "Giả sử một đồng xu có hai mặt `Head` và `Tail`.\n",
    "\n",
    "a. Định nghĩa hàm `toss_a_fair_coin`để mô phỏng việc tung đồng xu. Kết quả trả về là `H` hoặc `T` tương ứng với một trong hai mặt\n",
    "\n",
    "```python\n",
    "def toss_a_fair_coin():\n",
    "    # ...\n",
    "```\n",
    "\n",
    "b. Thực hiện việc tung đồng xu n = 100 lần. Cho biết số lần xuất hiện của mỗi mặt. Lựa chọn đồ thị phù hợp để hiển thị kết quả trên."
   ]
  },
  {
   "cell_type": "code",
   "execution_count": null,
   "metadata": {},
   "outputs": [],
   "source": [
    "# YOUR CODE HERE\n"
   ]
  },
  {
   "cell_type": "markdown",
   "metadata": {},
   "source": [
    "### Bài 2: Mô phỏng tung đồng xu không cân đối\n",
    "\n",
    "Giả sử có một đồng xu với hai mặt `H` và `T` không cân đối, với xác suất thu được mặt Head là 0.6, xác suất thu được mặt Tail là 0.4. Bạn hãy:\n",
    "\n",
    "a. Định nghĩa hàm `toss_a_biased_coin`để mô phỏng việc tung đồng xu. Kết quả trả về là `H` hoặc `T` tương ứng với một trong hai mặt\n",
    "\n",
    "```python\n",
    "def toss_a_biased_coin(head_prob):\n",
    "    '''\n",
    "    Tung đồng xu không cân đối.\n",
    "    Return: 'H' or 'T'\n",
    "        head_prob: xác suất thu được mặt Head\n",
    "    '''\n",
    "    # ...\n",
    "```\n",
    "\n",
    "b. Thực hiện việc tung đồng xu n = 100 lần. Cho biết số lần xuất hiện của mỗi mặt. Tính tỷ lệ xuất hiện của mặt Head và Tail. Lựa chọn đồ thị phù hợp để hiển thị kết quả trên. \n",
    "\n",
    "c. Thực hiện việc tung đồng xu n = 10000 lần. Cho biết số lần xuất hiện của mỗi mặt. Tính tỷ lệ xuất hiện của mặt Head và Tail. Lựa chọn đồ thị phù hợp để hiển thị kết quả trên. \n",
    "\n",
    "d. Bạn có nhận xét gì?"
   ]
  },
  {
   "cell_type": "code",
   "execution_count": null,
   "metadata": {},
   "outputs": [],
   "source": [
    "# YOUR CODE HERE\n"
   ]
  },
  {
   "cell_type": "markdown",
   "metadata": {},
   "source": [
    "### Bài 3: Khảo sát hàm randint()\n",
    "\n",
    "Hàm `randint()`dùng để phát sinh số nguyên ngẫu nhiên. Tuy nhiên, các kết quả ngẫu nhiên này có quy luật nào hay không, liệu ta có thể tin tưởng để sử dụng hàm này không? Trong ví dụ này bạn hãy thực hiện mô phỏng sau: phát sinh `n` số số ngẫu nhiên trong đoạn [1..40]. Với mỗi lần phát sinh bạn hãy vẽ histogram về `tần suất` xuất hiện của mỗi số.\n",
    "\n",
    "a. Hãy vẽ đồ thị `tần suất` xuất hiện của các số với n=40, n=100, n=10000, n=1000000\n",
    "\n",
    "b. Hãy đưa ra nhận xét của bạn về hàm `randint()`\n",
    "\n"
   ]
  },
  {
   "cell_type": "code",
   "execution_count": null,
   "metadata": {},
   "outputs": [],
   "source": [
    "# YOUR CODE HERE\n"
   ]
  },
  {
   "cell_type": "markdown",
   "metadata": {},
   "source": [
    "### Bài 4: Mô phỏng cách chọn mẫu\n",
    "\n",
    "Trong bài tập này ta sẽ mô phỏng cách lấy mẫu từ một tập đã có sẵn.\n",
    "\n",
    "a. Sử dụng hàm `randint()` để tạo 10 số ngẫu nhiên nằm trong đoạn [1..100]. Lưu kết quả vào biến `my_arr`\n",
    "\n",
    "b. Sử dụng hàm `choice` để lấy ngẫu nhiên 5 phần tử từ mảng `my_arr`.\n",
    "\n",
    "c. Thực hiện câu b, 10 lần. Với mỗi lần bạn hãy hiển thị 5 phần tử được chọn, tính giá trị trung bình và độ lệch chuẩn của các phần tử ấy"
   ]
  },
  {
   "cell_type": "code",
   "execution_count": null,
   "metadata": {},
   "outputs": [],
   "source": [
    "# YOUR CODE HERE\n"
   ]
  },
  {
   "cell_type": "markdown",
   "metadata": {},
   "source": [
    "### Bài 5 Kiểm tra mảng phát sinh\n",
    "\n",
    "Giả sử chiều cao của người trưởng thành dao động từ 140cm - 210cm.\n",
    "\n",
    "a. Bạn hãy phát sinh ngẫu nhiên chiều cao của 1000 người và lưu vào mảng `heights`\n",
    "\n",
    "b. Giả sử ta quy định mức chiều cao như sau:\n",
    "\n",
    "- Mức thấp: chiều cao bé hơn 160cm\n",
    "- Mức bình thường: chiều cao từ 160 đến bé hơn 175cm\n",
    "- Mức cao: chiều cao từ 175cm đến bé hơn 190cm \n",
    "- Mức rất cao: chiều cao từ 190cm trở lên\n",
    "\n",
    "Từ mảng đã phát sinh bạn hãy tính tỷ lệ mỗi mức. Lựa chọn đồ thị phù hợp để biểu diễn."
   ]
  },
  {
   "cell_type": "code",
   "execution_count": null,
   "metadata": {},
   "outputs": [],
   "source": [
    "# YOUR CODE HERE\n"
   ]
  },
  {
   "cell_type": "markdown",
   "metadata": {},
   "source": [
    "## DỮ LIỆU"
   ]
  },
  {
   "cell_type": "markdown",
   "metadata": {},
   "source": [
    "### Bài 6: dataset `temperature.csv`\n",
    "\n",
    "Bạn hãy tìm cách đọc dữ liệu về nhiệt độ của các tỉnh thành trên với thư viện `numpy`.\n",
    "\n",
    "a. Với mỗi tỉnh thành bạn hãy cho biết: nhiệt độ thấp nhất, nhiệt độ cao nhất, nhiệt độ trung bình, độ lệch chuẩn, độ biến thiên về nhiệt độ (`range=max-min`)\n",
    "\n",
    "b. Vẽ histogram nhiệt độ của TP.HCM\n",
    "\n",
    "c. Lựa chọn đồ thị để so sánh nhiệt độ của 6 tỉnh thành"
   ]
  },
  {
   "cell_type": "code",
   "execution_count": null,
   "metadata": {},
   "outputs": [],
   "source": [
    "# YOUR CODE HERE\n"
   ]
  },
  {
   "cell_type": "markdown",
   "metadata": {},
   "source": [
    "### Bài 7: dataset `bmi.csv`\n",
    "\n",
    "Bạn hãy tìm cách đọc dữ liệu về bmi của nhóm người khảo sát trên với thư viện `numpy`.\n",
    "\n",
    "a. Hãy cho biết:\n",
    "    - Tỷ lệ nam nữ\n",
    "    - Các đại lượng thống kê: min, max, range, mean, standard deviation của hai thuộc tính chiều cao và cân nặng\n",
    "\n",
    "b. Vẽ đồ thị histogram về chiều cao và cân nặng của hai thuộc tính chiều cao và cân nặng\n",
    "\n",
    "c. Sử dụng hai đồ thị boxplot để so sánh chiều cao và cân nặng của nam và nữ\n",
    "\n",
    "d. Để kiểm tra xem hai thuộc tính chiều cao và cân nặng có mối liên quan nào hay không, bạn có thể sử dụng đồ thị tán xạ (scatter plot). Giả sử muốn kiểm tra xem liệu một người cao hơn thì có cân nặng lớn hơn hay không, bạn hãy vẽ đồ thị scatter plot với trục hoành là chiều cao và trục tung là cân nặng"
   ]
  },
  {
   "cell_type": "code",
   "execution_count": null,
   "metadata": {},
   "outputs": [],
   "source": [
    "# YOUR CODE HERE\n"
   ]
  },
  {
   "cell_type": "markdown",
   "metadata": {},
   "source": [
    "## KHÁC"
   ]
  },
  {
   "cell_type": "markdown",
   "metadata": {},
   "source": [
    "### Bài 8: Mô phỏng điểm bài kiểm tra\n",
    "\n",
    "Giả sử điểm bài kiểm tra của học sinh có điểm môn Toán [0..10], với các phần lẻ có thể có là [0.25, 0.5, 0.75]\n",
    "\n",
    "a. Dùng hàm ngẫu nhiên để phát sinh điểm số của một lớp học gồm của 10 học sinh. Tính điểm trung bình của lớp đó.\n",
    "\n",
    "b. Giả sử một trường có 50 lớp học. Mỗi lớp học có 40 học sinh. Bạn hãy phát sinh ngẫu nhiên điểm của các học sinh trong 50 lớp học này\n",
    "\n",
    "c. Giả sử nhà trường muốn thống kê tình hình học tập của 50 lớp học này. Nhà trường tiến hành thống kê bằng cách lấy điểm trung bình của tất cả các lớp học. Bạn hãy vẽ histogram điểm trung bình của 50 lớp học này. "
   ]
  },
  {
   "cell_type": "code",
   "execution_count": null,
   "metadata": {},
   "outputs": [],
   "source": [
    "# YOUR CODE HERE\n"
   ]
  },
  {
   "cell_type": "markdown",
   "metadata": {},
   "source": [
    "\n",
    "### Bài 9: Mô phỏng bốc ba lá bài\n",
    "\n",
    "Một bộ bài tú lơ khơ có 52 lá. Với: \n",
    "    - Tập các nút là {2, 3,..10, J, Q, K, A}\n",
    "    - Tập các chất là {'co', 'ro', 'chuong', 'bich`}\n",
    "\n",
    "Bạn hãy mô phỏng:\n",
    "\n",
    "a. Bốc 3 lá bài từ bộ bài trên. Lưu ý: không có trường hợp 1 bộ bài có hai lá trùng nhau\n",
    "\n",
    "b. Tính điểm thu được (tổng điểm 3 lá)\n",
    "\n",
    "c. Tìm hiểu cách hiển thị hình ảnh 3 lá bài đã bốc bằng python"
   ]
  },
  {
   "cell_type": "code",
   "execution_count": null,
   "metadata": {},
   "outputs": [],
   "source": [
    "# YOUR CODE HERE\n"
   ]
  },
  {
   "cell_type": "markdown",
   "metadata": {},
   "source": [
    "\n",
    "### Bài 10: Mô phỏng Monte Carlo để ước lượng π\n",
    "\n",
    "Ước lượng giá trị của π bằng phương pháp Monte Carlo. Ý tưởng là tạo ngẫu nhiên các điểm trong một hình vuông và xác định tỷ lệ các điểm nằm trong một phần tư hình tròn.\n",
    "\n",
    "Công việc:\n",
    "\n",
    "Tạo 100.000 điểm ngẫu nhiên (x, y) trong một hình vuông đơn vị.\n",
    "Đếm số điểm nằm trong phần tư hình tròn có bán kính 1.\n",
    "Ước lượng π bằng công thức: 4 * (số điểm trong hình tròn) / (tổng số điểm)."
   ]
  },
  {
   "cell_type": "code",
   "execution_count": null,
   "metadata": {},
   "outputs": [],
   "source": [
    "# YOUR CODE HERE\n"
   ]
  },
  {
   "cell_type": "markdown",
   "metadata": {},
   "source": [
    "---"
   ]
  }
 ],
 "metadata": {
  "language_info": {
   "name": "python"
  }
 },
 "nbformat": 4,
 "nbformat_minor": 2
}
