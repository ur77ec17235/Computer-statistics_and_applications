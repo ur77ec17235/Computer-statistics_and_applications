{
 "cells": [
  {
   "cell_type": "markdown",
   "metadata": {},
   "source": [
    "# Lab 06 - Bài Tập"
   ]
  },
  {
   "cell_type": "markdown",
   "metadata": {},
   "source": [
    "### Bài 1: Tạo quần thể mô phỏng\n",
    "\n",
    "Bạn hãy tạo một mẫu gồm 10000 phần tử mô phỏng chiều cao của nam thanh niên có giá trị từ 120cm - 200cm. Bạn hãy lưu kết quả vào biến **POP**.\n",
    "\n",
    "Tính:\n",
    "a. Chiều cao trung bình (kỳ vọng) của quần thể và độ lệch chuẩn về chiều cao của quần thể.\n",
    "\n",
    "b. Tính tỷ lệ người cao trong quần thể, biết rằng thanh niên có chiều cao từ 180 trở lên được gọi là cao.\n",
    "\n",
    "c. Vẽ histogram về chiều cao của quần thể. Theo bạn quần thể có phân phối chuẩn hay không?\n",
    "\n",
    "d. Thử vẽ histogram và đồ thị hàm mật độ của phân phối chuẩn sử dụng tham số loc và scale bằng với kỳ vọng và độ lệch chuẩn của quần thể."
   ]
  },
  {
   "cell_type": "code",
   "execution_count": null,
   "metadata": {},
   "outputs": [],
   "source": []
  },
  {
   "cell_type": "markdown",
   "metadata": {},
   "source": [
    "### Bài 2: Lấy mẫu cỡ 20\n",
    "\n",
    "Bạn hãy lấy một mẫu kích thước 20 phần từ. Tính:\n",
    "\n",
    "a. Trung bình mẫu, và độ lệch chuẩn của mẫu\n",
    "\n",
    "b. Tỷ lệ người cao của mẫu\n",
    "\n",
    "c. Vẽ histogram của mẫu\n",
    "\n",
    "d. Thử vẽ đồ thị hàm mật độ của phân phối chuẩn với tham số loc và scale bằng với giá trị trung bình và độ lệch chuẩn và chiều cao của mẫu. Bạn có nhận xét gì không?"
   ]
  },
  {
   "cell_type": "code",
   "execution_count": null,
   "metadata": {},
   "outputs": [],
   "source": []
  },
  {
   "cell_type": "markdown",
   "metadata": {},
   "source": [
    "### Bài 3: Lấy mẫu cỡ 100\n",
    "\n",
    "Lặp lại thí nghiệm bài 2 với cỡ mẫu là 100"
   ]
  },
  {
   "cell_type": "code",
   "execution_count": null,
   "metadata": {},
   "outputs": [],
   "source": []
  },
  {
   "cell_type": "markdown",
   "metadata": {},
   "source": [
    "### Bài 4: Khảo sát phân phối của trung bình mẫu\n",
    "\n",
    "a. Thực hiện bài 2 100 lần, mỗi lần bạn tính được trung bình mẫu. Vẽ đồ thị histogram cho 100 trung bình mẫu bạn tính được.\n",
    "\n",
    "b. Thực hiện bài 3 100 lần, mỗi lần bạn tính được trung bình mẫu. Vẽ đồ thị histogram cho 100 trung bình mẫu bạn tính được.\n",
    "\n",
    "c. Vẽ histogram của hai câu a, b trong cùng một hình để so sánh. Theo bạn hình dạng của histogram thay đổi nói lên điều gì?\n",
    "\n",
    "Gợi ý: tạo một danh sách rỗng để chứa các trung bình mẫu tính được, sử dụng hàm append() để thêm giá trị trung bình vào danh sách sau mỗi lần tính."
   ]
  },
  {
   "cell_type": "code",
   "execution_count": null,
   "metadata": {},
   "outputs": [],
   "source": []
  },
  {
   "cell_type": "markdown",
   "metadata": {},
   "source": [
    "### Bài 5: Khảo sát tỷ lệ mẫu\n",
    "\n",
    "a. Bạn hãy mô phỏng 1000 lần lấy mẫu có kích cỡ 100. Vẽ histogram tỷ lệ người cao của các mẫu\n",
    "\n",
    "b. Bạn hãy mô phỏng 1000 lần lấy mẫu có kích cỡ 500. Vẽ histogram tỷ lệ người cao của các mẫu"
   ]
  },
  {
   "cell_type": "code",
   "execution_count": null,
   "metadata": {},
   "outputs": [],
   "source": []
  },
  {
   "cell_type": "markdown",
   "metadata": {},
   "source": [
    "### Bài 6: Khảo sát phương sai mẫu\n",
    "\n",
    "Bạn hãy mô phỏng 1000 lần lấy mẫu có kích cỡ 100. Vẽ histogram đại lượng phương sai của các mẫu (Phương sai bằng bình phương độ lệch chuẩn)"
   ]
  },
  {
   "cell_type": "code",
   "execution_count": null,
   "metadata": {},
   "outputs": [],
   "source": []
  },
  {
   "cell_type": "markdown",
   "metadata": {},
   "source": [
    "### Bài 7:  Bài Tập Ước Lượng \n",
    "\n",
    "Khảo sát cân nặng (kg) của gà khi xuất chuồng, người ta cân một số con và có kết quả như sau:\n",
    "\n",
    "> 2.1, 1.8, 2.0, 2.3, 1.7, 1.5, 2.0, 2.2, 1.8\n",
    "\n",
    "Giả sử cân nặng của gà là biến ngẫu nhiên có phân phối chuẩn. Hãy lập khoảng tin cậy cho cân nặng trung bình của  khi xuất chuồng với độ tin cậy là 95%. Trong 2 trường hợp:\n",
    "\n",
    "a, Biết $\\sigma = 0.3$\n",
    "\n",
    "b, Không biết $\\sigma$\n"
   ]
  },
  {
   "cell_type": "code",
   "execution_count": null,
   "metadata": {},
   "outputs": [],
   "source": []
  },
  {
   "cell_type": "markdown",
   "metadata": {},
   "source": [
    "### Bài 8\n",
    "\n",
    "Bộ dữ liệu `SAT-lard.csv` chứa điểm thi SAT của 1000 học sinh. \n",
    "\n",
    "a. Giả sử bộ dữ liệu là kết quả của quá trình lấy mẫu ngẫu nhiên từ các học sinh. Bạn hãy xây dựng khoảng tin cậy cho trung bình điểm thi của tất cả các sinh viên với độ tin cậy 99% (`Đáp án: 105.2 ± 3.10`)\n",
    "\n",
    "b. Giả sử bộ dữ liệu là kết quả của quá trình lấy mẫu ngẫu nhiên từ các học sinh. Bạn hãy xây dựng khoảng tin cậy cho trung bình điểm thi của tất cả các sinh viên với độ tin cậy (`Đáp án: 105.2 ± 1.86`)\n",
    "\n",
    "c. Giả sử bộ dữ liệu là toàn bộ kết quả điểm thi SAT của học sinh một trường phố thông. Tính điểm SAT trung bình của trường phổ thông đấy. (`Đáp án:  μ = 1528.74`)\n",
    "\n",
    "d. Giả sử bộ dữ liệu là toàn bộ kết quả điểm thi SAT của học sinh một trường phố thông. Sử dụng mẫu là điểm thi của 36 học sinh đầu tiên trong bộ dữ liệu, bạn hãy xây dựng khoảng tin cậy **99%** cho điểm SAT trung bình của trường phổ thông đấy. (`Đáp án: (1428.22, 1602.89)`)\n",
    "\n",
    "e. Giả sử bộ dữ liệu là toàn bộ kết quả điểm thi SAT của học sinh một trường phố thông. Sử dụng mẫu là điểm thi của 36 học sinh đầu tiên trong bộ dữ liệu, bạn hãy xây dựng khoảng tin cậy **95%** cho điểm SAT trung bình của trường phổ thông đấy. Cho biết khoảng ước lượng bạn xây dựng có đúng không, dựa trên giá trị đã tính ở câu trên."
   ]
  },
  {
   "cell_type": "code",
   "execution_count": null,
   "metadata": {},
   "outputs": [],
   "source": []
  },
  {
   "cell_type": "markdown",
   "metadata": {},
   "source": [
    "---"
   ]
  }
 ],
 "metadata": {
  "kernelspec": {
   "display_name": "Python 3 (ipykernel)",
   "language": "python",
   "name": "python3"
  },
  "language_info": {
   "codemirror_mode": {
    "name": "ipython",
    "version": 3
   },
   "file_extension": ".py",
   "mimetype": "text/x-python",
   "name": "python",
   "nbconvert_exporter": "python",
   "pygments_lexer": "ipython3",
   "version": "3.9.7"
  }
 },
 "nbformat": 4,
 "nbformat_minor": 4
}
