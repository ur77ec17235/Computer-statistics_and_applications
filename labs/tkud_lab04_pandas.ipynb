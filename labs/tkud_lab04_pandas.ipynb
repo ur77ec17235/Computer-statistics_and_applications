{
 "cells": [
  {
   "cell_type": "markdown",
   "metadata": {
    "id": "ysRp8ql5dUiA"
   },
   "source": [
    "# Pandas"
   ]
  },
  {
   "cell_type": "markdown",
   "metadata": {
    "id": "_f3rsPLqdUiN"
   },
   "source": [
    "`Pandas` là một thư viện cơ bản dùng để phân tích dữ liệu. `Pandas` cho phép người dùng đọc, ghi dữ liệu từ file và cung cấp những chức năng để việc phân tích dữ liệu được dễ dàng.\n",
    "\n",
    "Bạn có thể xem cheatshet (bảng tóm tắt) các hàm của Pandas ở đây [LINK](https://pandas.pydata.org/Pandas_Cheat_Sheet.pdf).\n",
    "\n",
    "Trong tài liệu này chúng ta sẽ tìm hiểu những nội dung sau:\n",
    "\n",
    "- Series và DataFrame: 2 cấu trúc dữ liệu trên Pandas\n",
    "- Đọc dữ liệu: đọc vào một đối tượng DataFrame\n",
    "- Khám phá dữ liệu thông qua việc: hiểu dữ liệu, sắp xếp, tóm tắt, lọc dữ liệu, gom nhóm\n",
    "- Thao tác trên dữ liệu: xử lý các trường hợp đặc biệt như giá trị bị thiếu, giá trị ngoại lệ\n",
    "- Lưu dữ liệu sau khi đã xử lý"
   ]
  },
  {
   "cell_type": "markdown",
   "metadata": {
    "id": "TkEbxWoAdUiR"
   },
   "source": [
    "Trước khi sử dụng chúng ta cần phải tải thư viện `Pandas` và `Numpy`"
   ]
  },
  {
   "cell_type": "code",
   "execution_count": 11,
   "metadata": {
    "id": "IxYc-Mo8dUiS"
   },
   "outputs": [],
   "source": [
    "import pandas as pd\n",
    "import numpy as np"
   ]
  },
  {
   "cell_type": "markdown",
   "metadata": {
    "id": "fTYvE_hRdUiT"
   },
   "source": [
    "## SERIES VÀ DATAFRAME"
   ]
  },
  {
   "cell_type": "markdown",
   "metadata": {
    "id": "UY4MVNdedUiT"
   },
   "source": [
    "Có hai cấu trúc dữ liệu tronng Pandas đó là: `Series` and `DataFrame`."
   ]
  },
  {
   "cell_type": "markdown",
   "metadata": {
    "id": "AdI2prJKdUiU"
   },
   "source": [
    "`Series` giống như list trong Python, là cấu trúc mảng một chiều dùng để chứa dữ liệu. `Series` sử dụng nhãn (label) hoặc chỉ mục (index) để truy cập các phần tử."
   ]
  },
  {
   "cell_type": "code",
   "execution_count": 12,
   "metadata": {
    "colab": {
     "base_uri": "https://localhost:8080/"
    },
    "id": "XgKbCyPddUiU",
    "outputId": "bfe26416-6d51-44b8-f99e-e4fa329683ed"
   },
   "outputs": [
    {
     "name": "stdout",
     "output_type": "stream",
     "text": [
      "0    34\n",
      "1    23\n",
      "2    -5\n",
      "3     0\n",
      "dtype: int64\n"
     ]
    }
   ],
   "source": [
    "x = pd.Series([34, 23, -5, 0])\n",
    "print(x)"
   ]
  },
  {
   "cell_type": "markdown",
   "metadata": {
    "id": "_wZMLXARdUiX"
   },
   "source": [
    "Bạn có thể sử dụng phím TAB để xem danh sách các hàm của một đối tượng Series. Ví dụ, bạn gõ \"x.\" sau đó nhấn `TAB`"
   ]
  },
  {
   "cell_type": "markdown",
   "metadata": {
    "id": "YbDwx786dUiX"
   },
   "source": [
    "Một `DataFrame` giống như một bảng trong Excel với các hàng và các cột.\n",
    "\n",
    "Bạn có thể tạo một DataFrame bằng cách sử dụng Dictionary trong Python:"
   ]
  },
  {
   "cell_type": "code",
   "execution_count": 13,
   "metadata": {
    "colab": {
     "base_uri": "https://localhost:8080/",
     "height": 204
    },
    "id": "s5y87yRYdUiY",
    "outputId": "79ee0d58-fec7-4072-b185-b89c67beab9c"
   },
   "outputs": [
    {
     "data": {
      "text/html": [
       "<div>\n",
       "<style scoped>\n",
       "    .dataframe tbody tr th:only-of-type {\n",
       "        vertical-align: middle;\n",
       "    }\n",
       "\n",
       "    .dataframe tbody tr th {\n",
       "        vertical-align: top;\n",
       "    }\n",
       "\n",
       "    .dataframe thead th {\n",
       "        text-align: right;\n",
       "    }\n",
       "</style>\n",
       "<table border=\"1\" class=\"dataframe\">\n",
       "  <thead>\n",
       "    <tr style=\"text-align: right;\">\n",
       "      <th></th>\n",
       "      <th>name</th>\n",
       "      <th>state</th>\n",
       "      <th>birthyear</th>\n",
       "    </tr>\n",
       "  </thead>\n",
       "  <tbody>\n",
       "    <tr>\n",
       "      <th>0</th>\n",
       "      <td>Mary</td>\n",
       "      <td>VIC</td>\n",
       "      <td>1980</td>\n",
       "    </tr>\n",
       "    <tr>\n",
       "      <th>1</th>\n",
       "      <td>David</td>\n",
       "      <td>NSW</td>\n",
       "      <td>1992</td>\n",
       "    </tr>\n",
       "    <tr>\n",
       "      <th>2</th>\n",
       "      <td>Jack</td>\n",
       "      <td>VIC</td>\n",
       "      <td>2000</td>\n",
       "    </tr>\n",
       "    <tr>\n",
       "      <th>3</th>\n",
       "      <td>John</td>\n",
       "      <td>SA</td>\n",
       "      <td>1980</td>\n",
       "    </tr>\n",
       "    <tr>\n",
       "      <th>4</th>\n",
       "      <td>Robin</td>\n",
       "      <td>QLD</td>\n",
       "      <td>1995</td>\n",
       "    </tr>\n",
       "  </tbody>\n",
       "</table>\n",
       "</div>"
      ],
      "text/plain": [
       "    name state  birthyear\n",
       "0   Mary   VIC       1980\n",
       "1  David   NSW       1992\n",
       "2   Jack   VIC       2000\n",
       "3   John    SA       1980\n",
       "4  Robin   QLD       1995"
      ]
     },
     "execution_count": 13,
     "metadata": {},
     "output_type": "execute_result"
    }
   ],
   "source": [
    "data = {'name': ['Mary', 'David', 'Jack', 'John', 'Robin'],\n",
    "        'state': ['VIC', 'NSW', 'VIC', 'SA', 'QLD'],\n",
    "        'birthyear': [1980, 1992, 2000, 1980, 1995]}\n",
    "df = pd.DataFrame(data)\n",
    "df"
   ]
  },
  {
   "cell_type": "markdown",
   "metadata": {
    "id": "opQsJelwdUia"
   },
   "source": [
    "Hoặc có thể thêm vào cuối của `DataFrame` như cách dưới đây:"
   ]
  },
  {
   "cell_type": "code",
   "execution_count": 14,
   "metadata": {
    "colab": {
     "base_uri": "https://localhost:8080/",
     "height": 111
    },
    "id": "_71x_SvPdUib",
    "outputId": "03ecfa3c-a6c4-4245-a6d0-2e8b28b7ac28"
   },
   "outputs": [
    {
     "data": {
      "text/html": [
       "<div>\n",
       "<style scoped>\n",
       "    .dataframe tbody tr th:only-of-type {\n",
       "        vertical-align: middle;\n",
       "    }\n",
       "\n",
       "    .dataframe tbody tr th {\n",
       "        vertical-align: top;\n",
       "    }\n",
       "\n",
       "    .dataframe thead th {\n",
       "        text-align: right;\n",
       "    }\n",
       "</style>\n",
       "<table border=\"1\" class=\"dataframe\">\n",
       "  <thead>\n",
       "    <tr style=\"text-align: right;\">\n",
       "      <th></th>\n",
       "      <th>name</th>\n",
       "      <th>state</th>\n",
       "      <th>birthyear</th>\n",
       "    </tr>\n",
       "  </thead>\n",
       "  <tbody>\n",
       "    <tr>\n",
       "      <th>0</th>\n",
       "      <td>Mary</td>\n",
       "      <td>VIC</td>\n",
       "      <td>1980</td>\n",
       "    </tr>\n",
       "    <tr>\n",
       "      <th>1</th>\n",
       "      <td>David</td>\n",
       "      <td>NSW</td>\n",
       "      <td>1992</td>\n",
       "    </tr>\n",
       "  </tbody>\n",
       "</table>\n",
       "</div>"
      ],
      "text/plain": [
       "    name state birthyear\n",
       "0   Mary   VIC      1980\n",
       "1  David   NSW      1992"
      ]
     },
     "execution_count": 14,
     "metadata": {},
     "output_type": "execute_result"
    }
   ],
   "source": [
    "df = pd.DataFrame(columns=['name', 'state', 'birthyear'])\n",
    "df.loc[len(df)] = ['Mary', 'VIC', 1980]\n",
    "df.loc[len(df)] = ['David', 'NSW', 1992]\n",
    "\n",
    "df"
   ]
  },
  {
   "cell_type": "markdown",
   "metadata": {
    "id": "5AjgschAdUic"
   },
   "source": [
    "## ĐỌC DỮ LIỆU"
   ]
  },
  {
   "cell_type": "markdown",
   "metadata": {
    "id": "VuEnz20VdUic"
   },
   "source": [
    "Đọc bộ dữ liệu `sample_grades.csv`\n",
    "\n",
    "Bộ dữ liệu này chứa kết quả đánh giá điểm của sinh viên (Pass hoặc Fail) cho một lớp học gồm 40 sinh viên.\n",
    "\n",
    "Dữ liệu có các trường dữ liệu như sau:\n",
    "\n",
    "- `Student ID`: mã sinh viên\n",
    "\n",
    "\n",
    "- `Gender`: giới tính\n",
    "\n",
    "\n",
    "- `Project Phase 1`: điểm project giai đoạn 1, tối đa 20 điểm.\n",
    "\n",
    "\n",
    "- `Project Phase 2`: điểm project giai đoạn 2, tối đa 30 điểm.\n",
    "\n",
    "\n",
    "- `Mid-Semester Test`: điểm giữa kỳ, tối đa 100 điểm\n",
    "\n",
    "\n",
    "- `Final Exam`: điểm cuối kỳ, tối đa 100 điểm.\n",
    "\n",
    "\n",
    "- `Grade`: Xếp loại sinh viên đậu (PA) hay rớt (NN)\n",
    "\n",
    "Trước tiên, cần đọc dữ liệu."
   ]
  },
  {
   "cell_type": "code",
   "execution_count": 15,
   "metadata": {
    "id": "9ordF_9Akwud"
   },
   "outputs": [],
   "source": [
    "grades = pd.read_csv('./data/grades.csv', header=0)"
   ]
  },
  {
   "cell_type": "markdown",
   "metadata": {
    "id": "1n0dcJXGdUid"
   },
   "source": [
    "## KHÁM PHÁ DỮ LIỆU"
   ]
  },
  {
   "cell_type": "markdown",
   "metadata": {
    "id": "3foGh7E5dUie"
   },
   "source": [
    "### Xem dữ liệu"
   ]
  },
  {
   "cell_type": "markdown",
   "metadata": {
    "id": "j_GRftdvdUie"
   },
   "source": [
    "Có rất nhiêu cách tiếp cận để xem dữ liệu"
   ]
  },
  {
   "cell_type": "markdown",
   "metadata": {
    "id": "FygLBDjWdUie"
   },
   "source": [
    " Hàm `head()` dùng để hiển thị 5 dòng dữ liệu đầu tiên."
   ]
  },
  {
   "cell_type": "code",
   "execution_count": 16,
   "metadata": {
    "colab": {
     "base_uri": "https://localhost:8080/",
     "height": 204
    },
    "id": "ObIFoRWCdUif",
    "outputId": "11224a0c-f15d-4956-ca0f-5ce0dd630c51"
   },
   "outputs": [
    {
     "data": {
      "text/html": [
       "<div>\n",
       "<style scoped>\n",
       "    .dataframe tbody tr th:only-of-type {\n",
       "        vertical-align: middle;\n",
       "    }\n",
       "\n",
       "    .dataframe tbody tr th {\n",
       "        vertical-align: top;\n",
       "    }\n",
       "\n",
       "    .dataframe thead th {\n",
       "        text-align: right;\n",
       "    }\n",
       "</style>\n",
       "<table border=\"1\" class=\"dataframe\">\n",
       "  <thead>\n",
       "    <tr style=\"text-align: right;\">\n",
       "      <th></th>\n",
       "      <th>Student ID</th>\n",
       "      <th>Gender</th>\n",
       "      <th>Project Phase 1</th>\n",
       "      <th>Project Phase 2</th>\n",
       "      <th>Mid-Semester Test</th>\n",
       "      <th>Final Exam</th>\n",
       "      <th>Grade</th>\n",
       "    </tr>\n",
       "  </thead>\n",
       "  <tbody>\n",
       "    <tr>\n",
       "      <th>0</th>\n",
       "      <td>101</td>\n",
       "      <td>Male</td>\n",
       "      <td>18.25</td>\n",
       "      <td>15.5</td>\n",
       "      <td>94</td>\n",
       "      <td>61.0</td>\n",
       "      <td>PA</td>\n",
       "    </tr>\n",
       "    <tr>\n",
       "      <th>1</th>\n",
       "      <td>102</td>\n",
       "      <td>Female</td>\n",
       "      <td>17.75</td>\n",
       "      <td>30.0</td>\n",
       "      <td>79</td>\n",
       "      <td>62.0</td>\n",
       "      <td>PA</td>\n",
       "    </tr>\n",
       "    <tr>\n",
       "      <th>2</th>\n",
       "      <td>103</td>\n",
       "      <td>Male</td>\n",
       "      <td>0.00</td>\n",
       "      <td>0.0</td>\n",
       "      <td>78</td>\n",
       "      <td>15.0</td>\n",
       "      <td>NN</td>\n",
       "    </tr>\n",
       "    <tr>\n",
       "      <th>3</th>\n",
       "      <td>104</td>\n",
       "      <td>Male</td>\n",
       "      <td>20.00</td>\n",
       "      <td>25.0</td>\n",
       "      <td>69</td>\n",
       "      <td>65.0</td>\n",
       "      <td>PA</td>\n",
       "    </tr>\n",
       "    <tr>\n",
       "      <th>4</th>\n",
       "      <td>105</td>\n",
       "      <td>Male</td>\n",
       "      <td>18.75</td>\n",
       "      <td>30.0</td>\n",
       "      <td>96</td>\n",
       "      <td>51.0</td>\n",
       "      <td>PA</td>\n",
       "    </tr>\n",
       "  </tbody>\n",
       "</table>\n",
       "</div>"
      ],
      "text/plain": [
       "   Student ID  Gender  Project Phase 1  Project Phase 2  Mid-Semester Test  \\\n",
       "0         101    Male            18.25             15.5                 94   \n",
       "1         102  Female            17.75             30.0                 79   \n",
       "2         103    Male             0.00              0.0                 78   \n",
       "3         104    Male            20.00             25.0                 69   \n",
       "4         105    Male            18.75             30.0                 96   \n",
       "\n",
       "   Final Exam Grade  \n",
       "0        61.0    PA  \n",
       "1        62.0    PA  \n",
       "2        15.0    NN  \n",
       "3        65.0    PA  \n",
       "4        51.0    PA  "
      ]
     },
     "execution_count": 16,
     "metadata": {},
     "output_type": "execute_result"
    }
   ],
   "source": [
    "grades.head()"
   ]
  },
  {
   "cell_type": "markdown",
   "metadata": {
    "id": "6cUNeMyrdUif"
   },
   "source": [
    "Bạn cũng có thể hiển thị số dòng mà bạn muốn. Ví dụ, hiển thị 2 dòng"
   ]
  },
  {
   "cell_type": "code",
   "execution_count": 17,
   "metadata": {
    "colab": {
     "base_uri": "https://localhost:8080/",
     "height": 111
    },
    "id": "eGrY71VYdUif",
    "outputId": "b1b32e59-afd9-43ee-ec17-c1da6aaf9f82"
   },
   "outputs": [
    {
     "data": {
      "text/html": [
       "<div>\n",
       "<style scoped>\n",
       "    .dataframe tbody tr th:only-of-type {\n",
       "        vertical-align: middle;\n",
       "    }\n",
       "\n",
       "    .dataframe tbody tr th {\n",
       "        vertical-align: top;\n",
       "    }\n",
       "\n",
       "    .dataframe thead th {\n",
       "        text-align: right;\n",
       "    }\n",
       "</style>\n",
       "<table border=\"1\" class=\"dataframe\">\n",
       "  <thead>\n",
       "    <tr style=\"text-align: right;\">\n",
       "      <th></th>\n",
       "      <th>Student ID</th>\n",
       "      <th>Gender</th>\n",
       "      <th>Project Phase 1</th>\n",
       "      <th>Project Phase 2</th>\n",
       "      <th>Mid-Semester Test</th>\n",
       "      <th>Final Exam</th>\n",
       "      <th>Grade</th>\n",
       "    </tr>\n",
       "  </thead>\n",
       "  <tbody>\n",
       "    <tr>\n",
       "      <th>0</th>\n",
       "      <td>101</td>\n",
       "      <td>Male</td>\n",
       "      <td>18.25</td>\n",
       "      <td>15.5</td>\n",
       "      <td>94</td>\n",
       "      <td>61.0</td>\n",
       "      <td>PA</td>\n",
       "    </tr>\n",
       "    <tr>\n",
       "      <th>1</th>\n",
       "      <td>102</td>\n",
       "      <td>Female</td>\n",
       "      <td>17.75</td>\n",
       "      <td>30.0</td>\n",
       "      <td>79</td>\n",
       "      <td>62.0</td>\n",
       "      <td>PA</td>\n",
       "    </tr>\n",
       "  </tbody>\n",
       "</table>\n",
       "</div>"
      ],
      "text/plain": [
       "   Student ID  Gender  Project Phase 1  Project Phase 2  Mid-Semester Test  \\\n",
       "0         101    Male            18.25             15.5                 94   \n",
       "1         102  Female            17.75             30.0                 79   \n",
       "\n",
       "   Final Exam Grade  \n",
       "0        61.0    PA  \n",
       "1        62.0    PA  "
      ]
     },
     "execution_count": 17,
     "metadata": {},
     "output_type": "execute_result"
    }
   ],
   "source": [
    "grades.head(2)"
   ]
  },
  {
   "cell_type": "markdown",
   "metadata": {
    "id": "zCAmRkrgdUig"
   },
   "source": [
    "Hàm `tail()` hiển thị 5 dòng cuối cùng"
   ]
  },
  {
   "cell_type": "code",
   "execution_count": 18,
   "metadata": {
    "colab": {
     "base_uri": "https://localhost:8080/",
     "height": 204
    },
    "id": "czqBxYgmdUig",
    "outputId": "5eed1ec6-3992-453b-e7ea-06717019c830"
   },
   "outputs": [
    {
     "data": {
      "text/html": [
       "<div>\n",
       "<style scoped>\n",
       "    .dataframe tbody tr th:only-of-type {\n",
       "        vertical-align: middle;\n",
       "    }\n",
       "\n",
       "    .dataframe tbody tr th {\n",
       "        vertical-align: top;\n",
       "    }\n",
       "\n",
       "    .dataframe thead th {\n",
       "        text-align: right;\n",
       "    }\n",
       "</style>\n",
       "<table border=\"1\" class=\"dataframe\">\n",
       "  <thead>\n",
       "    <tr style=\"text-align: right;\">\n",
       "      <th></th>\n",
       "      <th>Student ID</th>\n",
       "      <th>Gender</th>\n",
       "      <th>Project Phase 1</th>\n",
       "      <th>Project Phase 2</th>\n",
       "      <th>Mid-Semester Test</th>\n",
       "      <th>Final Exam</th>\n",
       "      <th>Grade</th>\n",
       "    </tr>\n",
       "  </thead>\n",
       "  <tbody>\n",
       "    <tr>\n",
       "      <th>35</th>\n",
       "      <td>136</td>\n",
       "      <td>Male</td>\n",
       "      <td>18.50</td>\n",
       "      <td>22.0</td>\n",
       "      <td>26</td>\n",
       "      <td>68.0</td>\n",
       "      <td>PA</td>\n",
       "    </tr>\n",
       "    <tr>\n",
       "      <th>36</th>\n",
       "      <td>137</td>\n",
       "      <td>Female</td>\n",
       "      <td>20.00</td>\n",
       "      <td>26.0</td>\n",
       "      <td>89</td>\n",
       "      <td>63.0</td>\n",
       "      <td>PA</td>\n",
       "    </tr>\n",
       "    <tr>\n",
       "      <th>37</th>\n",
       "      <td>138</td>\n",
       "      <td>Male</td>\n",
       "      <td>18.75</td>\n",
       "      <td>30.0</td>\n",
       "      <td>59</td>\n",
       "      <td>52.0</td>\n",
       "      <td>PA</td>\n",
       "    </tr>\n",
       "    <tr>\n",
       "      <th>38</th>\n",
       "      <td>139</td>\n",
       "      <td>Male</td>\n",
       "      <td>19.00</td>\n",
       "      <td>30.0</td>\n",
       "      <td>70</td>\n",
       "      <td>NaN</td>\n",
       "      <td>PA</td>\n",
       "    </tr>\n",
       "    <tr>\n",
       "      <th>39</th>\n",
       "      <td>140</td>\n",
       "      <td>Male</td>\n",
       "      <td>20.00</td>\n",
       "      <td>29.0</td>\n",
       "      <td>84</td>\n",
       "      <td>77.0</td>\n",
       "      <td>PA</td>\n",
       "    </tr>\n",
       "  </tbody>\n",
       "</table>\n",
       "</div>"
      ],
      "text/plain": [
       "    Student ID  Gender  Project Phase 1  Project Phase 2  Mid-Semester Test  \\\n",
       "35         136    Male            18.50             22.0                 26   \n",
       "36         137  Female            20.00             26.0                 89   \n",
       "37         138    Male            18.75             30.0                 59   \n",
       "38         139    Male            19.00             30.0                 70   \n",
       "39         140    Male            20.00             29.0                 84   \n",
       "\n",
       "    Final Exam Grade  \n",
       "35        68.0    PA  \n",
       "36        63.0    PA  \n",
       "37        52.0    PA  \n",
       "38         NaN    PA  \n",
       "39        77.0    PA  "
      ]
     },
     "execution_count": 18,
     "metadata": {},
     "output_type": "execute_result"
    }
   ],
   "source": [
    "grades.tail()"
   ]
  },
  {
   "cell_type": "markdown",
   "metadata": {
    "id": "dAQqvAW7dUih"
   },
   "source": [
    "Hàm `sample()` lựa chọn ngẫu nhiên các dòng của toàn bộ dữ liệu"
   ]
  },
  {
   "cell_type": "code",
   "execution_count": 19,
   "metadata": {
    "colab": {
     "base_uri": "https://localhost:8080/",
     "height": 204
    },
    "id": "uc65jkBmdUih",
    "outputId": "c884827d-feb0-478c-95b8-20d075582d71"
   },
   "outputs": [
    {
     "data": {
      "text/html": [
       "<div>\n",
       "<style scoped>\n",
       "    .dataframe tbody tr th:only-of-type {\n",
       "        vertical-align: middle;\n",
       "    }\n",
       "\n",
       "    .dataframe tbody tr th {\n",
       "        vertical-align: top;\n",
       "    }\n",
       "\n",
       "    .dataframe thead th {\n",
       "        text-align: right;\n",
       "    }\n",
       "</style>\n",
       "<table border=\"1\" class=\"dataframe\">\n",
       "  <thead>\n",
       "    <tr style=\"text-align: right;\">\n",
       "      <th></th>\n",
       "      <th>Student ID</th>\n",
       "      <th>Gender</th>\n",
       "      <th>Project Phase 1</th>\n",
       "      <th>Project Phase 2</th>\n",
       "      <th>Mid-Semester Test</th>\n",
       "      <th>Final Exam</th>\n",
       "      <th>Grade</th>\n",
       "    </tr>\n",
       "  </thead>\n",
       "  <tbody>\n",
       "    <tr>\n",
       "      <th>25</th>\n",
       "      <td>126</td>\n",
       "      <td>Female</td>\n",
       "      <td>20.00</td>\n",
       "      <td>22.5</td>\n",
       "      <td>83</td>\n",
       "      <td>56.0</td>\n",
       "      <td>PA</td>\n",
       "    </tr>\n",
       "    <tr>\n",
       "      <th>36</th>\n",
       "      <td>137</td>\n",
       "      <td>Female</td>\n",
       "      <td>20.00</td>\n",
       "      <td>26.0</td>\n",
       "      <td>89</td>\n",
       "      <td>63.0</td>\n",
       "      <td>PA</td>\n",
       "    </tr>\n",
       "    <tr>\n",
       "      <th>29</th>\n",
       "      <td>130</td>\n",
       "      <td>Male</td>\n",
       "      <td>19.50</td>\n",
       "      <td>13.0</td>\n",
       "      <td>62</td>\n",
       "      <td>39.0</td>\n",
       "      <td>NN</td>\n",
       "    </tr>\n",
       "    <tr>\n",
       "      <th>22</th>\n",
       "      <td>123</td>\n",
       "      <td>Male</td>\n",
       "      <td>19.75</td>\n",
       "      <td>30.0</td>\n",
       "      <td>74</td>\n",
       "      <td>61.0</td>\n",
       "      <td>PA</td>\n",
       "    </tr>\n",
       "    <tr>\n",
       "      <th>28</th>\n",
       "      <td>129</td>\n",
       "      <td>Male</td>\n",
       "      <td>20.00</td>\n",
       "      <td>30.0</td>\n",
       "      <td>64</td>\n",
       "      <td>86.0</td>\n",
       "      <td>PA</td>\n",
       "    </tr>\n",
       "  </tbody>\n",
       "</table>\n",
       "</div>"
      ],
      "text/plain": [
       "    Student ID  Gender  Project Phase 1  Project Phase 2  Mid-Semester Test  \\\n",
       "25         126  Female            20.00             22.5                 83   \n",
       "36         137  Female            20.00             26.0                 89   \n",
       "29         130    Male            19.50             13.0                 62   \n",
       "22         123    Male            19.75             30.0                 74   \n",
       "28         129    Male            20.00             30.0                 64   \n",
       "\n",
       "    Final Exam Grade  \n",
       "25        56.0    PA  \n",
       "36        63.0    PA  \n",
       "29        39.0    NN  \n",
       "22        61.0    PA  \n",
       "28        86.0    PA  "
      ]
     },
     "execution_count": 19,
     "metadata": {},
     "output_type": "execute_result"
    }
   ],
   "source": [
    "grades.sample(5, random_state=99)"
   ]
  },
  {
   "cell_type": "markdown",
   "metadata": {},
   "source": [
    "### Hiểu dữ liệu"
   ]
  },
  {
   "cell_type": "markdown",
   "metadata": {},
   "source": [
    "Hàm `shape` tính số lượng dòng và số lượng cột của dữ liệu. Bạn có thể sử dụng `grades.shape[0]` và `grades.shape[1]` để lấy số dòng và số cột một cách riêng lẻ"
   ]
  },
  {
   "cell_type": "code",
   "execution_count": 20,
   "metadata": {},
   "outputs": [
    {
     "data": {
      "text/plain": [
       "(40, 7)"
      ]
     },
     "execution_count": 20,
     "metadata": {},
     "output_type": "execute_result"
    }
   ],
   "source": [
    "grades.shape"
   ]
  },
  {
   "cell_type": "markdown",
   "metadata": {},
   "source": [
    "Hàm `info()` mô tả thông tin về các cột và kiểu dữ liệu từng cột"
   ]
  },
  {
   "cell_type": "code",
   "execution_count": 21,
   "metadata": {},
   "outputs": [
    {
     "name": "stdout",
     "output_type": "stream",
     "text": [
      "<class 'pandas.core.frame.DataFrame'>\n",
      "RangeIndex: 40 entries, 0 to 39\n",
      "Data columns (total 7 columns):\n",
      " #   Column             Non-Null Count  Dtype  \n",
      "---  ------             --------------  -----  \n",
      " 0   Student ID         40 non-null     int64  \n",
      " 1   Gender             37 non-null     object \n",
      " 2   Project Phase 1    40 non-null     float64\n",
      " 3   Project Phase 2    37 non-null     float64\n",
      " 4   Mid-Semester Test  40 non-null     int64  \n",
      " 5   Final Exam         36 non-null     float64\n",
      " 6   Grade              40 non-null     object \n",
      "dtypes: float64(3), int64(2), object(2)\n",
      "memory usage: 2.3+ KB\n"
     ]
    }
   ],
   "source": [
    "grades.info()"
   ]
  },
  {
   "cell_type": "markdown",
   "metadata": {},
   "source": [
    "Hàm `describe()` cung cấp các thông tin thống kê mô tả cho từng cột. Lưu ý rằng: hàm `describe()` này không bao gồm các giá trị *null*."
   ]
  },
  {
   "cell_type": "code",
   "execution_count": 22,
   "metadata": {},
   "outputs": [
    {
     "data": {
      "text/html": [
       "<div>\n",
       "<style scoped>\n",
       "    .dataframe tbody tr th:only-of-type {\n",
       "        vertical-align: middle;\n",
       "    }\n",
       "\n",
       "    .dataframe tbody tr th {\n",
       "        vertical-align: top;\n",
       "    }\n",
       "\n",
       "    .dataframe thead th {\n",
       "        text-align: right;\n",
       "    }\n",
       "</style>\n",
       "<table border=\"1\" class=\"dataframe\">\n",
       "  <thead>\n",
       "    <tr style=\"text-align: right;\">\n",
       "      <th></th>\n",
       "      <th>Student ID</th>\n",
       "      <th>Project Phase 1</th>\n",
       "      <th>Project Phase 2</th>\n",
       "      <th>Mid-Semester Test</th>\n",
       "      <th>Final Exam</th>\n",
       "    </tr>\n",
       "  </thead>\n",
       "  <tbody>\n",
       "    <tr>\n",
       "      <th>count</th>\n",
       "      <td>40.000000</td>\n",
       "      <td>40.000000</td>\n",
       "      <td>37.000000</td>\n",
       "      <td>40.000000</td>\n",
       "      <td>36.000000</td>\n",
       "    </tr>\n",
       "    <tr>\n",
       "      <th>mean</th>\n",
       "      <td>120.500000</td>\n",
       "      <td>16.987500</td>\n",
       "      <td>23.750000</td>\n",
       "      <td>72.100000</td>\n",
       "      <td>56.055556</td>\n",
       "    </tr>\n",
       "    <tr>\n",
       "      <th>std</th>\n",
       "      <td>11.690452</td>\n",
       "      <td>5.964626</td>\n",
       "      <td>7.509716</td>\n",
       "      <td>19.664885</td>\n",
       "      <td>20.520296</td>\n",
       "    </tr>\n",
       "    <tr>\n",
       "      <th>min</th>\n",
       "      <td>101.000000</td>\n",
       "      <td>0.000000</td>\n",
       "      <td>0.000000</td>\n",
       "      <td>26.000000</td>\n",
       "      <td>6.000000</td>\n",
       "    </tr>\n",
       "    <tr>\n",
       "      <th>25%</th>\n",
       "      <td>110.750000</td>\n",
       "      <td>17.687500</td>\n",
       "      <td>20.000000</td>\n",
       "      <td>59.750000</td>\n",
       "      <td>45.500000</td>\n",
       "    </tr>\n",
       "    <tr>\n",
       "      <th>50%</th>\n",
       "      <td>120.500000</td>\n",
       "      <td>19.500000</td>\n",
       "      <td>25.500000</td>\n",
       "      <td>76.000000</td>\n",
       "      <td>60.000000</td>\n",
       "    </tr>\n",
       "    <tr>\n",
       "      <th>75%</th>\n",
       "      <td>130.250000</td>\n",
       "      <td>20.000000</td>\n",
       "      <td>30.000000</td>\n",
       "      <td>86.000000</td>\n",
       "      <td>71.750000</td>\n",
       "    </tr>\n",
       "    <tr>\n",
       "      <th>max</th>\n",
       "      <td>140.000000</td>\n",
       "      <td>20.000000</td>\n",
       "      <td>35.000000</td>\n",
       "      <td>100.000000</td>\n",
       "      <td>91.000000</td>\n",
       "    </tr>\n",
       "  </tbody>\n",
       "</table>\n",
       "</div>"
      ],
      "text/plain": [
       "       Student ID  Project Phase 1  Project Phase 2  Mid-Semester Test  \\\n",
       "count   40.000000        40.000000        37.000000          40.000000   \n",
       "mean   120.500000        16.987500        23.750000          72.100000   \n",
       "std     11.690452         5.964626         7.509716          19.664885   \n",
       "min    101.000000         0.000000         0.000000          26.000000   \n",
       "25%    110.750000        17.687500        20.000000          59.750000   \n",
       "50%    120.500000        19.500000        25.500000          76.000000   \n",
       "75%    130.250000        20.000000        30.000000          86.000000   \n",
       "max    140.000000        20.000000        35.000000         100.000000   \n",
       "\n",
       "       Final Exam  \n",
       "count   36.000000  \n",
       "mean    56.055556  \n",
       "std     20.520296  \n",
       "min      6.000000  \n",
       "25%     45.500000  \n",
       "50%     60.000000  \n",
       "75%     71.750000  \n",
       "max     91.000000  "
      ]
     },
     "execution_count": 22,
     "metadata": {},
     "output_type": "execute_result"
    }
   ],
   "source": [
    "grades.describe()"
   ]
  },
  {
   "cell_type": "markdown",
   "metadata": {},
   "source": [
    "Trong ví dụ trên, nếu để ý bạn sẽ thấy rằng 2 cột *Gender* và *Grade* không được hiển thị. Lý do là vì những cột này mang thuộc tính phân loại (categorical data). Nếu bạn muốn hiển thị cả những cột này khi gọi hàm `describe()` thì cần thêm tham số `include = all`."
   ]
  },
  {
   "cell_type": "code",
   "execution_count": 23,
   "metadata": {},
   "outputs": [
    {
     "data": {
      "text/html": [
       "<div>\n",
       "<style scoped>\n",
       "    .dataframe tbody tr th:only-of-type {\n",
       "        vertical-align: middle;\n",
       "    }\n",
       "\n",
       "    .dataframe tbody tr th {\n",
       "        vertical-align: top;\n",
       "    }\n",
       "\n",
       "    .dataframe thead th {\n",
       "        text-align: right;\n",
       "    }\n",
       "</style>\n",
       "<table border=\"1\" class=\"dataframe\">\n",
       "  <thead>\n",
       "    <tr style=\"text-align: right;\">\n",
       "      <th></th>\n",
       "      <th>Student ID</th>\n",
       "      <th>Gender</th>\n",
       "      <th>Project Phase 1</th>\n",
       "      <th>Project Phase 2</th>\n",
       "      <th>Mid-Semester Test</th>\n",
       "      <th>Final Exam</th>\n",
       "      <th>Grade</th>\n",
       "    </tr>\n",
       "  </thead>\n",
       "  <tbody>\n",
       "    <tr>\n",
       "      <th>count</th>\n",
       "      <td>40.000000</td>\n",
       "      <td>37</td>\n",
       "      <td>40.000000</td>\n",
       "      <td>37.000000</td>\n",
       "      <td>40.000000</td>\n",
       "      <td>36.000000</td>\n",
       "      <td>40</td>\n",
       "    </tr>\n",
       "    <tr>\n",
       "      <th>unique</th>\n",
       "      <td>NaN</td>\n",
       "      <td>4</td>\n",
       "      <td>NaN</td>\n",
       "      <td>NaN</td>\n",
       "      <td>NaN</td>\n",
       "      <td>NaN</td>\n",
       "      <td>2</td>\n",
       "    </tr>\n",
       "    <tr>\n",
       "      <th>top</th>\n",
       "      <td>NaN</td>\n",
       "      <td>Male</td>\n",
       "      <td>NaN</td>\n",
       "      <td>NaN</td>\n",
       "      <td>NaN</td>\n",
       "      <td>NaN</td>\n",
       "      <td>PA</td>\n",
       "    </tr>\n",
       "    <tr>\n",
       "      <th>freq</th>\n",
       "      <td>NaN</td>\n",
       "      <td>22</td>\n",
       "      <td>NaN</td>\n",
       "      <td>NaN</td>\n",
       "      <td>NaN</td>\n",
       "      <td>NaN</td>\n",
       "      <td>29</td>\n",
       "    </tr>\n",
       "    <tr>\n",
       "      <th>mean</th>\n",
       "      <td>120.500000</td>\n",
       "      <td>NaN</td>\n",
       "      <td>16.987500</td>\n",
       "      <td>23.750000</td>\n",
       "      <td>72.100000</td>\n",
       "      <td>56.055556</td>\n",
       "      <td>NaN</td>\n",
       "    </tr>\n",
       "    <tr>\n",
       "      <th>std</th>\n",
       "      <td>11.690452</td>\n",
       "      <td>NaN</td>\n",
       "      <td>5.964626</td>\n",
       "      <td>7.509716</td>\n",
       "      <td>19.664885</td>\n",
       "      <td>20.520296</td>\n",
       "      <td>NaN</td>\n",
       "    </tr>\n",
       "    <tr>\n",
       "      <th>min</th>\n",
       "      <td>101.000000</td>\n",
       "      <td>NaN</td>\n",
       "      <td>0.000000</td>\n",
       "      <td>0.000000</td>\n",
       "      <td>26.000000</td>\n",
       "      <td>6.000000</td>\n",
       "      <td>NaN</td>\n",
       "    </tr>\n",
       "    <tr>\n",
       "      <th>25%</th>\n",
       "      <td>110.750000</td>\n",
       "      <td>NaN</td>\n",
       "      <td>17.687500</td>\n",
       "      <td>20.000000</td>\n",
       "      <td>59.750000</td>\n",
       "      <td>45.500000</td>\n",
       "      <td>NaN</td>\n",
       "    </tr>\n",
       "    <tr>\n",
       "      <th>50%</th>\n",
       "      <td>120.500000</td>\n",
       "      <td>NaN</td>\n",
       "      <td>19.500000</td>\n",
       "      <td>25.500000</td>\n",
       "      <td>76.000000</td>\n",
       "      <td>60.000000</td>\n",
       "      <td>NaN</td>\n",
       "    </tr>\n",
       "    <tr>\n",
       "      <th>75%</th>\n",
       "      <td>130.250000</td>\n",
       "      <td>NaN</td>\n",
       "      <td>20.000000</td>\n",
       "      <td>30.000000</td>\n",
       "      <td>86.000000</td>\n",
       "      <td>71.750000</td>\n",
       "      <td>NaN</td>\n",
       "    </tr>\n",
       "    <tr>\n",
       "      <th>max</th>\n",
       "      <td>140.000000</td>\n",
       "      <td>NaN</td>\n",
       "      <td>20.000000</td>\n",
       "      <td>35.000000</td>\n",
       "      <td>100.000000</td>\n",
       "      <td>91.000000</td>\n",
       "      <td>NaN</td>\n",
       "    </tr>\n",
       "  </tbody>\n",
       "</table>\n",
       "</div>"
      ],
      "text/plain": [
       "        Student ID Gender  Project Phase 1  Project Phase 2  \\\n",
       "count    40.000000     37        40.000000        37.000000   \n",
       "unique         NaN      4              NaN              NaN   \n",
       "top            NaN   Male              NaN              NaN   \n",
       "freq           NaN     22              NaN              NaN   \n",
       "mean    120.500000    NaN        16.987500        23.750000   \n",
       "std      11.690452    NaN         5.964626         7.509716   \n",
       "min     101.000000    NaN         0.000000         0.000000   \n",
       "25%     110.750000    NaN        17.687500        20.000000   \n",
       "50%     120.500000    NaN        19.500000        25.500000   \n",
       "75%     130.250000    NaN        20.000000        30.000000   \n",
       "max     140.000000    NaN        20.000000        35.000000   \n",
       "\n",
       "        Mid-Semester Test  Final Exam Grade  \n",
       "count           40.000000   36.000000    40  \n",
       "unique                NaN         NaN     2  \n",
       "top                   NaN         NaN    PA  \n",
       "freq                  NaN         NaN    29  \n",
       "mean            72.100000   56.055556   NaN  \n",
       "std             19.664885   20.520296   NaN  \n",
       "min             26.000000    6.000000   NaN  \n",
       "25%             59.750000   45.500000   NaN  \n",
       "50%             76.000000   60.000000   NaN  \n",
       "75%             86.000000   71.750000   NaN  \n",
       "max            100.000000   91.000000   NaN  "
      ]
     },
     "execution_count": 23,
     "metadata": {},
     "output_type": "execute_result"
    }
   ],
   "source": [
    "grades.describe(include='all')"
   ]
  },
  {
   "cell_type": "markdown",
   "metadata": {},
   "source": [
    "Dưới đây là một số hàm thường dùng để tìm hiểu dữ liệu:\n",
    "- `count()` đếm số lượng phần tử.\n",
    "- `value_counts()` đếm tần suất xuất hiện của giá trị.\n",
    "- `nunique()` đếm số lượng giá trị\n",
    "- `mean()` tính trung bình\n",
    "- `std()` tính độ lệch chuẩn\n",
    "- `max()` tính giá trị lớn nhất\n",
    "- `min()` tính giá trị nhỏ nhất"
   ]
  },
  {
   "cell_type": "code",
   "execution_count": 24,
   "metadata": {},
   "outputs": [
    {
     "data": {
      "text/plain": [
       "Student ID           40\n",
       "Gender               37\n",
       "Project Phase 1      40\n",
       "Project Phase 2      37\n",
       "Mid-Semester Test    40\n",
       "Final Exam           36\n",
       "Grade                40\n",
       "dtype: int64"
      ]
     },
     "execution_count": 24,
     "metadata": {},
     "output_type": "execute_result"
    }
   ],
   "source": [
    "grades.count()"
   ]
  },
  {
   "cell_type": "code",
   "execution_count": 25,
   "metadata": {},
   "outputs": [
    {
     "data": {
      "text/plain": [
       "Male      22\n",
       "Female    13\n",
       "M          1\n",
       "F          1\n",
       "Name: Gender, dtype: int64"
      ]
     },
     "execution_count": 25,
     "metadata": {},
     "output_type": "execute_result"
    }
   ],
   "source": [
    "grades['Gender'].value_counts()"
   ]
  },
  {
   "cell_type": "code",
   "execution_count": 26,
   "metadata": {},
   "outputs": [
    {
     "data": {
      "text/plain": [
       "4"
      ]
     },
     "execution_count": 26,
     "metadata": {},
     "output_type": "execute_result"
    }
   ],
   "source": [
    "grades['Gender'].nunique()"
   ]
  },
  {
   "cell_type": "code",
   "execution_count": 27,
   "metadata": {},
   "outputs": [
    {
     "data": {
      "text/plain": [
       "56.05555555555556"
      ]
     },
     "execution_count": 27,
     "metadata": {},
     "output_type": "execute_result"
    }
   ],
   "source": [
    "grades['Final Exam'].mean()"
   ]
  },
  {
   "cell_type": "code",
   "execution_count": 28,
   "metadata": {},
   "outputs": [
    {
     "data": {
      "text/plain": [
       "19.664884751955512"
      ]
     },
     "execution_count": 28,
     "metadata": {},
     "output_type": "execute_result"
    }
   ],
   "source": [
    "grades['Mid-Semester Test'].std()"
   ]
  },
  {
   "cell_type": "code",
   "execution_count": 29,
   "metadata": {},
   "outputs": [
    {
     "data": {
      "text/plain": [
       "35.0"
      ]
     },
     "execution_count": 29,
     "metadata": {},
     "output_type": "execute_result"
    }
   ],
   "source": [
    "grades['Project Phase 2'].max()"
   ]
  },
  {
   "cell_type": "code",
   "execution_count": 30,
   "metadata": {},
   "outputs": [
    {
     "data": {
      "text/plain": [
       "0.0"
      ]
     },
     "execution_count": 30,
     "metadata": {},
     "output_type": "execute_result"
    }
   ],
   "source": [
    "grades['Project Phase 1'].min()"
   ]
  },
  {
   "cell_type": "markdown",
   "metadata": {
    "id": "h3fj8PSkdUii"
   },
   "source": [
    "### Sắp Xếp"
   ]
  },
  {
   "cell_type": "markdown",
   "metadata": {
    "id": "hW2RnKfCdUii"
   },
   "source": [
    "Bạn có thể sắp xếp dữ liệu của một cột nào đó bằng cách sử dụng hàm `sort_values()`. Chúng ta sẽ sắp xếp dữ liệu cột Final Exam theo thứ tự giảm dần.\n",
    "\n",
    "Nếu bạn muốn sau khi sắp xếp, dữ liệu của bạn thay đổi theo, bạn cần thêm tham số `inplace` và gán với giá trị là `True`. Đây là **nguyên tắc cơ bản** trong pandas. Nếu bạn không thiết lập `inplace = True` bạn cần phải gán kết quả cho một biến khác để lưu giữ giá trị thay đổi.\n",
    "\n",
    "Một ưu điểm khác của Pandas đó là bạn có thể gọi một chuỗi các hàm liên tiếp nhau, ví dụ dưới đây gọi hàm `sort_values()` và `head()`"
   ]
  },
  {
   "cell_type": "code",
   "execution_count": 31,
   "metadata": {
    "colab": {
     "base_uri": "https://localhost:8080/",
     "height": 204
    },
    "id": "B2DmXG_zdUij",
    "outputId": "4cea7b93-0477-464b-c961-836e61ac17fd"
   },
   "outputs": [
    {
     "data": {
      "text/html": [
       "<div>\n",
       "<style scoped>\n",
       "    .dataframe tbody tr th:only-of-type {\n",
       "        vertical-align: middle;\n",
       "    }\n",
       "\n",
       "    .dataframe tbody tr th {\n",
       "        vertical-align: top;\n",
       "    }\n",
       "\n",
       "    .dataframe thead th {\n",
       "        text-align: right;\n",
       "    }\n",
       "</style>\n",
       "<table border=\"1\" class=\"dataframe\">\n",
       "  <thead>\n",
       "    <tr style=\"text-align: right;\">\n",
       "      <th></th>\n",
       "      <th>Student ID</th>\n",
       "      <th>Gender</th>\n",
       "      <th>Project Phase 1</th>\n",
       "      <th>Project Phase 2</th>\n",
       "      <th>Mid-Semester Test</th>\n",
       "      <th>Final Exam</th>\n",
       "      <th>Grade</th>\n",
       "    </tr>\n",
       "  </thead>\n",
       "  <tbody>\n",
       "    <tr>\n",
       "      <th>27</th>\n",
       "      <td>128</td>\n",
       "      <td>Female</td>\n",
       "      <td>20.0</td>\n",
       "      <td>30.00</td>\n",
       "      <td>84</td>\n",
       "      <td>91.0</td>\n",
       "      <td>PA</td>\n",
       "    </tr>\n",
       "    <tr>\n",
       "      <th>28</th>\n",
       "      <td>129</td>\n",
       "      <td>Male</td>\n",
       "      <td>20.0</td>\n",
       "      <td>30.00</td>\n",
       "      <td>64</td>\n",
       "      <td>86.0</td>\n",
       "      <td>PA</td>\n",
       "    </tr>\n",
       "    <tr>\n",
       "      <th>26</th>\n",
       "      <td>127</td>\n",
       "      <td>Female</td>\n",
       "      <td>20.0</td>\n",
       "      <td>35.00</td>\n",
       "      <td>84</td>\n",
       "      <td>83.0</td>\n",
       "      <td>PA</td>\n",
       "    </tr>\n",
       "    <tr>\n",
       "      <th>14</th>\n",
       "      <td>115</td>\n",
       "      <td>Male</td>\n",
       "      <td>19.5</td>\n",
       "      <td>26.00</td>\n",
       "      <td>100</td>\n",
       "      <td>79.0</td>\n",
       "      <td>PA</td>\n",
       "    </tr>\n",
       "    <tr>\n",
       "      <th>13</th>\n",
       "      <td>114</td>\n",
       "      <td>Male</td>\n",
       "      <td>20.0</td>\n",
       "      <td>22.75</td>\n",
       "      <td>85</td>\n",
       "      <td>78.0</td>\n",
       "      <td>PA</td>\n",
       "    </tr>\n",
       "  </tbody>\n",
       "</table>\n",
       "</div>"
      ],
      "text/plain": [
       "    Student ID  Gender  Project Phase 1  Project Phase 2  Mid-Semester Test  \\\n",
       "27         128  Female             20.0            30.00                 84   \n",
       "28         129    Male             20.0            30.00                 64   \n",
       "26         127  Female             20.0            35.00                 84   \n",
       "14         115    Male             19.5            26.00                100   \n",
       "13         114    Male             20.0            22.75                 85   \n",
       "\n",
       "    Final Exam Grade  \n",
       "27        91.0    PA  \n",
       "28        86.0    PA  \n",
       "26        83.0    PA  \n",
       "14        79.0    PA  \n",
       "13        78.0    PA  "
      ]
     },
     "execution_count": 31,
     "metadata": {},
     "output_type": "execute_result"
    }
   ],
   "source": [
    "grades.sort_values(by='Final Exam', ascending=False).head()"
   ]
  },
  {
   "cell_type": "markdown",
   "metadata": {},
   "source": [
    "---"
   ]
  },
  {
   "cell_type": "markdown",
   "metadata": {
    "id": "UdIptaRLdUiu"
   },
   "source": [
    "### Chọn Cột"
   ]
  },
  {
   "cell_type": "markdown",
   "metadata": {
    "id": "iCqklYZkdUiu"
   },
   "source": [
    "Trong trường hợp, dữ liệu của bạn có quá nhiều cột, bạn chỉ muốn chọn một số cột để hiển thị. Ví dụ, chọn 2 cột *Gender* và *Grade*."
   ]
  },
  {
   "cell_type": "code",
   "execution_count": 32,
   "metadata": {
    "colab": {
     "base_uri": "https://localhost:8080/",
     "height": 204
    },
    "id": "bSWCOw18dUiv",
    "outputId": "e7a96068-08ce-453d-8e01-752a0ac3bfc6"
   },
   "outputs": [
    {
     "data": {
      "text/html": [
       "<div>\n",
       "<style scoped>\n",
       "    .dataframe tbody tr th:only-of-type {\n",
       "        vertical-align: middle;\n",
       "    }\n",
       "\n",
       "    .dataframe tbody tr th {\n",
       "        vertical-align: top;\n",
       "    }\n",
       "\n",
       "    .dataframe thead th {\n",
       "        text-align: right;\n",
       "    }\n",
       "</style>\n",
       "<table border=\"1\" class=\"dataframe\">\n",
       "  <thead>\n",
       "    <tr style=\"text-align: right;\">\n",
       "      <th></th>\n",
       "      <th>Gender</th>\n",
       "      <th>Grade</th>\n",
       "    </tr>\n",
       "  </thead>\n",
       "  <tbody>\n",
       "    <tr>\n",
       "      <th>0</th>\n",
       "      <td>Male</td>\n",
       "      <td>PA</td>\n",
       "    </tr>\n",
       "    <tr>\n",
       "      <th>1</th>\n",
       "      <td>Female</td>\n",
       "      <td>PA</td>\n",
       "    </tr>\n",
       "    <tr>\n",
       "      <th>2</th>\n",
       "      <td>Male</td>\n",
       "      <td>NN</td>\n",
       "    </tr>\n",
       "    <tr>\n",
       "      <th>3</th>\n",
       "      <td>Male</td>\n",
       "      <td>PA</td>\n",
       "    </tr>\n",
       "    <tr>\n",
       "      <th>4</th>\n",
       "      <td>Male</td>\n",
       "      <td>PA</td>\n",
       "    </tr>\n",
       "  </tbody>\n",
       "</table>\n",
       "</div>"
      ],
      "text/plain": [
       "   Gender Grade\n",
       "0    Male    PA\n",
       "1  Female    PA\n",
       "2    Male    NN\n",
       "3    Male    PA\n",
       "4    Male    PA"
      ]
     },
     "execution_count": 32,
     "metadata": {},
     "output_type": "execute_result"
    }
   ],
   "source": [
    "# notice the double brackets\n",
    "grades[['Gender', 'Grade']].head()"
   ]
  },
  {
   "cell_type": "markdown",
   "metadata": {
    "id": "gk7_GIMmdUiv"
   },
   "source": [
    "Bạn có thể lấy dữ liệu của một cột, ví dụ: lấy dữ liệu của cột *Gender* và gán váo biến **gender_series**, khi đó biến này sẽ có kiểu dữ liệu là `series`\n"
   ]
  },
  {
   "cell_type": "code",
   "execution_count": 33,
   "metadata": {
    "id": "ku_Kmd1PdUiw"
   },
   "outputs": [],
   "source": [
    "# notice the single bracket\n",
    "gender_series = grades['Gender']"
   ]
  },
  {
   "cell_type": "code",
   "execution_count": 34,
   "metadata": {
    "colab": {
     "base_uri": "https://localhost:8080/"
    },
    "id": "l-LMUJyldUix",
    "outputId": "a1acaca0-b184-47fe-ae79-30dd8d6505ba"
   },
   "outputs": [
    {
     "data": {
      "text/plain": [
       "pandas.core.series.Series"
      ]
     },
     "execution_count": 34,
     "metadata": {},
     "output_type": "execute_result"
    }
   ],
   "source": [
    "type(gender_series)"
   ]
  },
  {
   "cell_type": "code",
   "execution_count": 35,
   "metadata": {
    "colab": {
     "base_uri": "https://localhost:8080/"
    },
    "id": "iRS3CLxOdUiy",
    "outputId": "de6e80df-9969-435e-f1a1-4357c9199052"
   },
   "outputs": [
    {
     "data": {
      "text/plain": [
       "0      Male\n",
       "1    Female\n",
       "2      Male\n",
       "3      Male\n",
       "4      Male\n",
       "Name: Gender, dtype: object"
      ]
     },
     "execution_count": 35,
     "metadata": {},
     "output_type": "execute_result"
    }
   ],
   "source": [
    "gender_series.head()"
   ]
  },
  {
   "cell_type": "markdown",
   "metadata": {
    "id": "1V_eLyp0D9fV"
   },
   "source": [
    "Hoặc bạn có thể dùng dấu '.' như sau:"
   ]
  },
  {
   "cell_type": "code",
   "execution_count": 36,
   "metadata": {
    "colab": {
     "base_uri": "https://localhost:8080/"
    },
    "id": "BbB_MMivD4Sz",
    "outputId": "72241673-41f0-416b-9929-45842a44a784"
   },
   "outputs": [
    {
     "data": {
      "text/plain": [
       "0      Male\n",
       "1    Female\n",
       "2      Male\n",
       "3      Male\n",
       "4      Male\n",
       "Name: Gender, dtype: object"
      ]
     },
     "execution_count": 36,
     "metadata": {},
     "output_type": "execute_result"
    }
   ],
   "source": [
    "grades.Gender.head()"
   ]
  },
  {
   "cell_type": "markdown",
   "metadata": {
    "id": "LKB3P4pZdUiy"
   },
   "source": [
    "### Lọc Dữ Liệu"
   ]
  },
  {
   "cell_type": "markdown",
   "metadata": {
    "id": "vBnz5Il3dUiz"
   },
   "source": [
    "Bạn có thể trích dữ liệu dựa vào một số các tiêu chí cụ thể. Giả sử, bạn muốn liệt kê các sinh viên không đậu trong lớp."
   ]
  },
  {
   "cell_type": "code",
   "execution_count": 37,
   "metadata": {
    "colab": {
     "base_uri": "https://localhost:8080/",
     "height": 390
    },
    "id": "S3YaifxpdUiz",
    "outputId": "12006055-a517-4427-f89b-b5ce087f1e09"
   },
   "outputs": [
    {
     "data": {
      "text/html": [
       "<div>\n",
       "<style scoped>\n",
       "    .dataframe tbody tr th:only-of-type {\n",
       "        vertical-align: middle;\n",
       "    }\n",
       "\n",
       "    .dataframe tbody tr th {\n",
       "        vertical-align: top;\n",
       "    }\n",
       "\n",
       "    .dataframe thead th {\n",
       "        text-align: right;\n",
       "    }\n",
       "</style>\n",
       "<table border=\"1\" class=\"dataframe\">\n",
       "  <thead>\n",
       "    <tr style=\"text-align: right;\">\n",
       "      <th></th>\n",
       "      <th>Student ID</th>\n",
       "      <th>Gender</th>\n",
       "      <th>Project Phase 1</th>\n",
       "      <th>Project Phase 2</th>\n",
       "      <th>Mid-Semester Test</th>\n",
       "      <th>Final Exam</th>\n",
       "      <th>Grade</th>\n",
       "    </tr>\n",
       "  </thead>\n",
       "  <tbody>\n",
       "    <tr>\n",
       "      <th>2</th>\n",
       "      <td>103</td>\n",
       "      <td>Male</td>\n",
       "      <td>0.00</td>\n",
       "      <td>0.0</td>\n",
       "      <td>78</td>\n",
       "      <td>15.0</td>\n",
       "      <td>NN</td>\n",
       "    </tr>\n",
       "    <tr>\n",
       "      <th>8</th>\n",
       "      <td>109</td>\n",
       "      <td>M</td>\n",
       "      <td>18.00</td>\n",
       "      <td>23.0</td>\n",
       "      <td>50</td>\n",
       "      <td>33.0</td>\n",
       "      <td>NN</td>\n",
       "    </tr>\n",
       "    <tr>\n",
       "      <th>12</th>\n",
       "      <td>113</td>\n",
       "      <td>Female</td>\n",
       "      <td>0.00</td>\n",
       "      <td>NaN</td>\n",
       "      <td>67</td>\n",
       "      <td>NaN</td>\n",
       "      <td>NN</td>\n",
       "    </tr>\n",
       "    <tr>\n",
       "      <th>16</th>\n",
       "      <td>117</td>\n",
       "      <td>NaN</td>\n",
       "      <td>15.75</td>\n",
       "      <td>10.0</td>\n",
       "      <td>81</td>\n",
       "      <td>34.0</td>\n",
       "      <td>NN</td>\n",
       "    </tr>\n",
       "    <tr>\n",
       "      <th>17</th>\n",
       "      <td>118</td>\n",
       "      <td>Male</td>\n",
       "      <td>12.50</td>\n",
       "      <td>10.0</td>\n",
       "      <td>30</td>\n",
       "      <td>22.0</td>\n",
       "      <td>NN</td>\n",
       "    </tr>\n",
       "    <tr>\n",
       "      <th>18</th>\n",
       "      <td>119</td>\n",
       "      <td>Male</td>\n",
       "      <td>17.50</td>\n",
       "      <td>20.0</td>\n",
       "      <td>61</td>\n",
       "      <td>31.0</td>\n",
       "      <td>NN</td>\n",
       "    </tr>\n",
       "    <tr>\n",
       "      <th>21</th>\n",
       "      <td>122</td>\n",
       "      <td>Female</td>\n",
       "      <td>20.00</td>\n",
       "      <td>23.0</td>\n",
       "      <td>37</td>\n",
       "      <td>25.0</td>\n",
       "      <td>NN</td>\n",
       "    </tr>\n",
       "    <tr>\n",
       "      <th>29</th>\n",
       "      <td>130</td>\n",
       "      <td>Male</td>\n",
       "      <td>19.50</td>\n",
       "      <td>13.0</td>\n",
       "      <td>62</td>\n",
       "      <td>39.0</td>\n",
       "      <td>NN</td>\n",
       "    </tr>\n",
       "    <tr>\n",
       "      <th>30</th>\n",
       "      <td>131</td>\n",
       "      <td>Male</td>\n",
       "      <td>0.00</td>\n",
       "      <td>NaN</td>\n",
       "      <td>60</td>\n",
       "      <td>NaN</td>\n",
       "      <td>NN</td>\n",
       "    </tr>\n",
       "    <tr>\n",
       "      <th>31</th>\n",
       "      <td>132</td>\n",
       "      <td>Female</td>\n",
       "      <td>17.50</td>\n",
       "      <td>20.0</td>\n",
       "      <td>42</td>\n",
       "      <td>47.0</td>\n",
       "      <td>NN</td>\n",
       "    </tr>\n",
       "    <tr>\n",
       "      <th>34</th>\n",
       "      <td>135</td>\n",
       "      <td>Male</td>\n",
       "      <td>20.00</td>\n",
       "      <td>30.0</td>\n",
       "      <td>61</td>\n",
       "      <td>6.0</td>\n",
       "      <td>NN</td>\n",
       "    </tr>\n",
       "  </tbody>\n",
       "</table>\n",
       "</div>"
      ],
      "text/plain": [
       "    Student ID  Gender  Project Phase 1  Project Phase 2  Mid-Semester Test  \\\n",
       "2          103    Male             0.00              0.0                 78   \n",
       "8          109       M            18.00             23.0                 50   \n",
       "12         113  Female             0.00              NaN                 67   \n",
       "16         117     NaN            15.75             10.0                 81   \n",
       "17         118    Male            12.50             10.0                 30   \n",
       "18         119    Male            17.50             20.0                 61   \n",
       "21         122  Female            20.00             23.0                 37   \n",
       "29         130    Male            19.50             13.0                 62   \n",
       "30         131    Male             0.00              NaN                 60   \n",
       "31         132  Female            17.50             20.0                 42   \n",
       "34         135    Male            20.00             30.0                 61   \n",
       "\n",
       "    Final Exam Grade  \n",
       "2         15.0    NN  \n",
       "8         33.0    NN  \n",
       "12         NaN    NN  \n",
       "16        34.0    NN  \n",
       "17        22.0    NN  \n",
       "18        31.0    NN  \n",
       "21        25.0    NN  \n",
       "29        39.0    NN  \n",
       "30         NaN    NN  \n",
       "31        47.0    NN  \n",
       "34         6.0    NN  "
      ]
     },
     "execution_count": 37,
     "metadata": {},
     "output_type": "execute_result"
    }
   ],
   "source": [
    "grades[grades['Grade'] == 'NN']"
   ]
  },
  {
   "cell_type": "markdown",
   "metadata": {
    "id": "knFgZh3lEn9l"
   },
   "source": [
    "Hoặc làm như sau:"
   ]
  },
  {
   "cell_type": "code",
   "execution_count": 38,
   "metadata": {
    "colab": {
     "base_uri": "https://localhost:8080/",
     "height": 390
    },
    "id": "gy2Mj9MyEiNo",
    "outputId": "8b931a0f-4610-42dc-c53f-74e0ae5a7a5a"
   },
   "outputs": [
    {
     "data": {
      "text/html": [
       "<div>\n",
       "<style scoped>\n",
       "    .dataframe tbody tr th:only-of-type {\n",
       "        vertical-align: middle;\n",
       "    }\n",
       "\n",
       "    .dataframe tbody tr th {\n",
       "        vertical-align: top;\n",
       "    }\n",
       "\n",
       "    .dataframe thead th {\n",
       "        text-align: right;\n",
       "    }\n",
       "</style>\n",
       "<table border=\"1\" class=\"dataframe\">\n",
       "  <thead>\n",
       "    <tr style=\"text-align: right;\">\n",
       "      <th></th>\n",
       "      <th>Student ID</th>\n",
       "      <th>Gender</th>\n",
       "      <th>Project Phase 1</th>\n",
       "      <th>Project Phase 2</th>\n",
       "      <th>Mid-Semester Test</th>\n",
       "      <th>Final Exam</th>\n",
       "      <th>Grade</th>\n",
       "    </tr>\n",
       "  </thead>\n",
       "  <tbody>\n",
       "    <tr>\n",
       "      <th>2</th>\n",
       "      <td>103</td>\n",
       "      <td>Male</td>\n",
       "      <td>0.00</td>\n",
       "      <td>0.0</td>\n",
       "      <td>78</td>\n",
       "      <td>15.0</td>\n",
       "      <td>NN</td>\n",
       "    </tr>\n",
       "    <tr>\n",
       "      <th>8</th>\n",
       "      <td>109</td>\n",
       "      <td>M</td>\n",
       "      <td>18.00</td>\n",
       "      <td>23.0</td>\n",
       "      <td>50</td>\n",
       "      <td>33.0</td>\n",
       "      <td>NN</td>\n",
       "    </tr>\n",
       "    <tr>\n",
       "      <th>12</th>\n",
       "      <td>113</td>\n",
       "      <td>Female</td>\n",
       "      <td>0.00</td>\n",
       "      <td>NaN</td>\n",
       "      <td>67</td>\n",
       "      <td>NaN</td>\n",
       "      <td>NN</td>\n",
       "    </tr>\n",
       "    <tr>\n",
       "      <th>16</th>\n",
       "      <td>117</td>\n",
       "      <td>NaN</td>\n",
       "      <td>15.75</td>\n",
       "      <td>10.0</td>\n",
       "      <td>81</td>\n",
       "      <td>34.0</td>\n",
       "      <td>NN</td>\n",
       "    </tr>\n",
       "    <tr>\n",
       "      <th>17</th>\n",
       "      <td>118</td>\n",
       "      <td>Male</td>\n",
       "      <td>12.50</td>\n",
       "      <td>10.0</td>\n",
       "      <td>30</td>\n",
       "      <td>22.0</td>\n",
       "      <td>NN</td>\n",
       "    </tr>\n",
       "    <tr>\n",
       "      <th>18</th>\n",
       "      <td>119</td>\n",
       "      <td>Male</td>\n",
       "      <td>17.50</td>\n",
       "      <td>20.0</td>\n",
       "      <td>61</td>\n",
       "      <td>31.0</td>\n",
       "      <td>NN</td>\n",
       "    </tr>\n",
       "    <tr>\n",
       "      <th>21</th>\n",
       "      <td>122</td>\n",
       "      <td>Female</td>\n",
       "      <td>20.00</td>\n",
       "      <td>23.0</td>\n",
       "      <td>37</td>\n",
       "      <td>25.0</td>\n",
       "      <td>NN</td>\n",
       "    </tr>\n",
       "    <tr>\n",
       "      <th>29</th>\n",
       "      <td>130</td>\n",
       "      <td>Male</td>\n",
       "      <td>19.50</td>\n",
       "      <td>13.0</td>\n",
       "      <td>62</td>\n",
       "      <td>39.0</td>\n",
       "      <td>NN</td>\n",
       "    </tr>\n",
       "    <tr>\n",
       "      <th>30</th>\n",
       "      <td>131</td>\n",
       "      <td>Male</td>\n",
       "      <td>0.00</td>\n",
       "      <td>NaN</td>\n",
       "      <td>60</td>\n",
       "      <td>NaN</td>\n",
       "      <td>NN</td>\n",
       "    </tr>\n",
       "    <tr>\n",
       "      <th>31</th>\n",
       "      <td>132</td>\n",
       "      <td>Female</td>\n",
       "      <td>17.50</td>\n",
       "      <td>20.0</td>\n",
       "      <td>42</td>\n",
       "      <td>47.0</td>\n",
       "      <td>NN</td>\n",
       "    </tr>\n",
       "    <tr>\n",
       "      <th>34</th>\n",
       "      <td>135</td>\n",
       "      <td>Male</td>\n",
       "      <td>20.00</td>\n",
       "      <td>30.0</td>\n",
       "      <td>61</td>\n",
       "      <td>6.0</td>\n",
       "      <td>NN</td>\n",
       "    </tr>\n",
       "  </tbody>\n",
       "</table>\n",
       "</div>"
      ],
      "text/plain": [
       "    Student ID  Gender  Project Phase 1  Project Phase 2  Mid-Semester Test  \\\n",
       "2          103    Male             0.00              0.0                 78   \n",
       "8          109       M            18.00             23.0                 50   \n",
       "12         113  Female             0.00              NaN                 67   \n",
       "16         117     NaN            15.75             10.0                 81   \n",
       "17         118    Male            12.50             10.0                 30   \n",
       "18         119    Male            17.50             20.0                 61   \n",
       "21         122  Female            20.00             23.0                 37   \n",
       "29         130    Male            19.50             13.0                 62   \n",
       "30         131    Male             0.00              NaN                 60   \n",
       "31         132  Female            17.50             20.0                 42   \n",
       "34         135    Male            20.00             30.0                 61   \n",
       "\n",
       "    Final Exam Grade  \n",
       "2         15.0    NN  \n",
       "8         33.0    NN  \n",
       "12         NaN    NN  \n",
       "16        34.0    NN  \n",
       "17        22.0    NN  \n",
       "18        31.0    NN  \n",
       "21        25.0    NN  \n",
       "29        39.0    NN  \n",
       "30         NaN    NN  \n",
       "31        47.0    NN  \n",
       "34         6.0    NN  "
      ]
     },
     "execution_count": 38,
     "metadata": {},
     "output_type": "execute_result"
    }
   ],
   "source": [
    "grades[grades.Grade == 'NN']"
   ]
  },
  {
   "cell_type": "markdown",
   "metadata": {
    "id": "IFW6B-C2dUi0"
   },
   "source": [
    "Bạn cung có thể lọc dựa vào nhiều tiêu chí. Ví dụ, liệt kê các sinh viên không đậu và có điểm thi cuối kỳ (Final Exam) lớn hơn 35. Đồng thời kết quả hiển thị chỉ lấy 4 cột *(Student ID, Final Exam, Grade)*"
   ]
  },
  {
   "cell_type": "code",
   "execution_count": 39,
   "metadata": {
    "colab": {
     "base_uri": "https://localhost:8080/",
     "height": 111
    },
    "id": "Ahb4VrFmdUi0",
    "outputId": "5a20df5d-e11f-4126-99a5-e12567e16496"
   },
   "outputs": [
    {
     "data": {
      "text/html": [
       "<div>\n",
       "<style scoped>\n",
       "    .dataframe tbody tr th:only-of-type {\n",
       "        vertical-align: middle;\n",
       "    }\n",
       "\n",
       "    .dataframe tbody tr th {\n",
       "        vertical-align: top;\n",
       "    }\n",
       "\n",
       "    .dataframe thead th {\n",
       "        text-align: right;\n",
       "    }\n",
       "</style>\n",
       "<table border=\"1\" class=\"dataframe\">\n",
       "  <thead>\n",
       "    <tr style=\"text-align: right;\">\n",
       "      <th></th>\n",
       "      <th>Student ID</th>\n",
       "      <th>Final Exam</th>\n",
       "      <th>Grade</th>\n",
       "    </tr>\n",
       "  </thead>\n",
       "  <tbody>\n",
       "    <tr>\n",
       "      <th>29</th>\n",
       "      <td>130</td>\n",
       "      <td>39.0</td>\n",
       "      <td>NN</td>\n",
       "    </tr>\n",
       "    <tr>\n",
       "      <th>31</th>\n",
       "      <td>132</td>\n",
       "      <td>47.0</td>\n",
       "      <td>NN</td>\n",
       "    </tr>\n",
       "  </tbody>\n",
       "</table>\n",
       "</div>"
      ],
      "text/plain": [
       "    Student ID  Final Exam Grade\n",
       "29         130        39.0    NN\n",
       "31         132        47.0    NN"
      ]
     },
     "execution_count": 39,
     "metadata": {},
     "output_type": "execute_result"
    }
   ],
   "source": [
    "grades.loc[(grades['Grade'] == 'NN') & (grades['Final Exam'] > 35), ['Student ID', 'Final Exam', 'Grade']]"
   ]
  },
  {
   "cell_type": "markdown",
   "metadata": {
    "id": "B-BVjUXedUi0"
   },
   "source": [
    "Ngoài ra, sử dụng hàm `iloc()` bạn có thể truy cập và trích xuất dữ liệu như một mảng hai chiều. Hàm `iloc()` lấy dữ liệu dựa vào chỉ số của DataFrame (bạn có thể truyền vào chỉ số âm giống như list trên Python)"
   ]
  },
  {
   "cell_type": "code",
   "execution_count": 40,
   "metadata": {
    "colab": {
     "base_uri": "https://localhost:8080/",
     "height": 235
    },
    "id": "bul8XsiwdUi1",
    "outputId": "9512f8bc-47a9-4e51-9aed-1395eea9382a"
   },
   "outputs": [
    {
     "data": {
      "text/html": [
       "<div>\n",
       "<style scoped>\n",
       "    .dataframe tbody tr th:only-of-type {\n",
       "        vertical-align: middle;\n",
       "    }\n",
       "\n",
       "    .dataframe tbody tr th {\n",
       "        vertical-align: top;\n",
       "    }\n",
       "\n",
       "    .dataframe thead th {\n",
       "        text-align: right;\n",
       "    }\n",
       "</style>\n",
       "<table border=\"1\" class=\"dataframe\">\n",
       "  <thead>\n",
       "    <tr style=\"text-align: right;\">\n",
       "      <th></th>\n",
       "      <th>Final Exam</th>\n",
       "      <th>Grade</th>\n",
       "    </tr>\n",
       "  </thead>\n",
       "  <tbody>\n",
       "    <tr>\n",
       "      <th>10</th>\n",
       "      <td>52.0</td>\n",
       "      <td>PA</td>\n",
       "    </tr>\n",
       "    <tr>\n",
       "      <th>11</th>\n",
       "      <td>NaN</td>\n",
       "      <td>PA</td>\n",
       "    </tr>\n",
       "    <tr>\n",
       "      <th>12</th>\n",
       "      <td>NaN</td>\n",
       "      <td>NN</td>\n",
       "    </tr>\n",
       "    <tr>\n",
       "      <th>13</th>\n",
       "      <td>78.0</td>\n",
       "      <td>PA</td>\n",
       "    </tr>\n",
       "    <tr>\n",
       "      <th>14</th>\n",
       "      <td>79.0</td>\n",
       "      <td>PA</td>\n",
       "    </tr>\n",
       "    <tr>\n",
       "      <th>15</th>\n",
       "      <td>52.0</td>\n",
       "      <td>PA</td>\n",
       "    </tr>\n",
       "  </tbody>\n",
       "</table>\n",
       "</div>"
      ],
      "text/plain": [
       "    Final Exam Grade\n",
       "10        52.0    PA\n",
       "11         NaN    PA\n",
       "12         NaN    NN\n",
       "13        78.0    PA\n",
       "14        79.0    PA\n",
       "15        52.0    PA"
      ]
     },
     "execution_count": 40,
     "metadata": {},
     "output_type": "execute_result"
    }
   ],
   "source": [
    "grades.iloc[10:16, -2:]"
   ]
  },
  {
   "cell_type": "markdown",
   "metadata": {
    "id": "YD5lFZHLdUi1"
   },
   "source": [
    "### Gom Nhóm"
   ]
  },
  {
   "cell_type": "markdown",
   "metadata": {
    "id": "N-ECXJf4dUi2"
   },
   "source": [
    "Pandas cho phép gom dữ liệu thành các nhóm sau đó thực hiện tính toán trên từng nhóm. Ví dụ, gom dữ liệu dựa vào thuộc tính `Grade`, sau đó đếm số lượng dữ liệu mỗi nhóm"
   ]
  },
  {
   "cell_type": "code",
   "execution_count": 41,
   "metadata": {
    "colab": {
     "base_uri": "https://localhost:8080/",
     "height": 142
    },
    "id": "oLoqRl2BdUi2",
    "outputId": "da96127d-dc02-4d53-f12a-03099df22865"
   },
   "outputs": [
    {
     "data": {
      "text/html": [
       "<div>\n",
       "<style scoped>\n",
       "    .dataframe tbody tr th:only-of-type {\n",
       "        vertical-align: middle;\n",
       "    }\n",
       "\n",
       "    .dataframe tbody tr th {\n",
       "        vertical-align: top;\n",
       "    }\n",
       "\n",
       "    .dataframe thead th {\n",
       "        text-align: right;\n",
       "    }\n",
       "</style>\n",
       "<table border=\"1\" class=\"dataframe\">\n",
       "  <thead>\n",
       "    <tr style=\"text-align: right;\">\n",
       "      <th></th>\n",
       "      <th>Student ID</th>\n",
       "      <th>Gender</th>\n",
       "      <th>Project Phase 1</th>\n",
       "      <th>Project Phase 2</th>\n",
       "      <th>Mid-Semester Test</th>\n",
       "      <th>Final Exam</th>\n",
       "    </tr>\n",
       "    <tr>\n",
       "      <th>Grade</th>\n",
       "      <th></th>\n",
       "      <th></th>\n",
       "      <th></th>\n",
       "      <th></th>\n",
       "      <th></th>\n",
       "      <th></th>\n",
       "    </tr>\n",
       "  </thead>\n",
       "  <tbody>\n",
       "    <tr>\n",
       "      <th>NN</th>\n",
       "      <td>11</td>\n",
       "      <td>10</td>\n",
       "      <td>11</td>\n",
       "      <td>9</td>\n",
       "      <td>11</td>\n",
       "      <td>9</td>\n",
       "    </tr>\n",
       "    <tr>\n",
       "      <th>PA</th>\n",
       "      <td>29</td>\n",
       "      <td>27</td>\n",
       "      <td>29</td>\n",
       "      <td>28</td>\n",
       "      <td>29</td>\n",
       "      <td>27</td>\n",
       "    </tr>\n",
       "  </tbody>\n",
       "</table>\n",
       "</div>"
      ],
      "text/plain": [
       "       Student ID  Gender  Project Phase 1  Project Phase 2  \\\n",
       "Grade                                                         \n",
       "NN             11      10               11                9   \n",
       "PA             29      27               29               28   \n",
       "\n",
       "       Mid-Semester Test  Final Exam  \n",
       "Grade                                 \n",
       "NN                    11           9  \n",
       "PA                    29          27  "
      ]
     },
     "execution_count": 41,
     "metadata": {},
     "output_type": "execute_result"
    }
   ],
   "source": [
    "grades.groupby(['Grade']).count()"
   ]
  },
  {
   "cell_type": "markdown",
   "metadata": {
    "id": "XfVkL0SxdUi2"
   },
   "source": [
    "Kết quả của câu lệnh trên trả về kiểu DataFrame, bạn có thể tự kiểm tra bằng cách sử dụng hàm `type()`.\n",
    "\n",
    "Bạn có thể sử dụng hàm `size()` để lấy kết quả trả về kiểu Series"
   ]
  },
  {
   "cell_type": "code",
   "execution_count": 42,
   "metadata": {
    "colab": {
     "base_uri": "https://localhost:8080/"
    },
    "id": "gEp0gwwPdUi3",
    "outputId": "cb7c89dd-1255-4cb0-9f39-8388d745132d"
   },
   "outputs": [
    {
     "data": {
      "text/plain": [
       "Grade\n",
       "NN    11\n",
       "PA    29\n",
       "dtype: int64"
      ]
     },
     "execution_count": 42,
     "metadata": {},
     "output_type": "execute_result"
    }
   ],
   "source": [
    "grades.groupby(['Grade']).size()"
   ]
  },
  {
   "cell_type": "markdown",
   "metadata": {
    "id": "N5HizQWFdUi3"
   },
   "source": [
    "Ví dụ dưới đây, gom nhóm theo giới tính, sau đó với mỗi nhóm lại gom theo nhóm con là `Grade`"
   ]
  },
  {
   "cell_type": "code",
   "execution_count": 43,
   "metadata": {
    "colab": {
     "base_uri": "https://localhost:8080/",
     "height": 266
    },
    "id": "7NjOxi3CdUi4",
    "outputId": "ee27f74c-ecc1-4a7f-ab97-720967f2951b"
   },
   "outputs": [
    {
     "data": {
      "text/html": [
       "<div>\n",
       "<style scoped>\n",
       "    .dataframe tbody tr th:only-of-type {\n",
       "        vertical-align: middle;\n",
       "    }\n",
       "\n",
       "    .dataframe tbody tr th {\n",
       "        vertical-align: top;\n",
       "    }\n",
       "\n",
       "    .dataframe thead th {\n",
       "        text-align: right;\n",
       "    }\n",
       "</style>\n",
       "<table border=\"1\" class=\"dataframe\">\n",
       "  <thead>\n",
       "    <tr style=\"text-align: right;\">\n",
       "      <th></th>\n",
       "      <th></th>\n",
       "      <th>Student ID</th>\n",
       "      <th>Project Phase 1</th>\n",
       "      <th>Project Phase 2</th>\n",
       "      <th>Mid-Semester Test</th>\n",
       "      <th>Final Exam</th>\n",
       "    </tr>\n",
       "    <tr>\n",
       "      <th>Gender</th>\n",
       "      <th>Grade</th>\n",
       "      <th></th>\n",
       "      <th></th>\n",
       "      <th></th>\n",
       "      <th></th>\n",
       "      <th></th>\n",
       "    </tr>\n",
       "  </thead>\n",
       "  <tbody>\n",
       "    <tr>\n",
       "      <th>F</th>\n",
       "      <th>PA</th>\n",
       "      <td>1</td>\n",
       "      <td>1</td>\n",
       "      <td>1</td>\n",
       "      <td>1</td>\n",
       "      <td>1</td>\n",
       "    </tr>\n",
       "    <tr>\n",
       "      <th rowspan=\"2\" valign=\"top\">Female</th>\n",
       "      <th>NN</th>\n",
       "      <td>3</td>\n",
       "      <td>3</td>\n",
       "      <td>2</td>\n",
       "      <td>3</td>\n",
       "      <td>2</td>\n",
       "    </tr>\n",
       "    <tr>\n",
       "      <th>PA</th>\n",
       "      <td>10</td>\n",
       "      <td>10</td>\n",
       "      <td>9</td>\n",
       "      <td>10</td>\n",
       "      <td>9</td>\n",
       "    </tr>\n",
       "    <tr>\n",
       "      <th>M</th>\n",
       "      <th>NN</th>\n",
       "      <td>1</td>\n",
       "      <td>1</td>\n",
       "      <td>1</td>\n",
       "      <td>1</td>\n",
       "      <td>1</td>\n",
       "    </tr>\n",
       "    <tr>\n",
       "      <th rowspan=\"2\" valign=\"top\">Male</th>\n",
       "      <th>NN</th>\n",
       "      <td>6</td>\n",
       "      <td>6</td>\n",
       "      <td>5</td>\n",
       "      <td>6</td>\n",
       "      <td>5</td>\n",
       "    </tr>\n",
       "    <tr>\n",
       "      <th>PA</th>\n",
       "      <td>16</td>\n",
       "      <td>16</td>\n",
       "      <td>16</td>\n",
       "      <td>16</td>\n",
       "      <td>15</td>\n",
       "    </tr>\n",
       "  </tbody>\n",
       "</table>\n",
       "</div>"
      ],
      "text/plain": [
       "              Student ID  Project Phase 1  Project Phase 2  Mid-Semester Test  \\\n",
       "Gender Grade                                                                    \n",
       "F      PA              1                1                1                  1   \n",
       "Female NN              3                3                2                  3   \n",
       "       PA             10               10                9                 10   \n",
       "M      NN              1                1                1                  1   \n",
       "Male   NN              6                6                5                  6   \n",
       "       PA             16               16               16                 16   \n",
       "\n",
       "              Final Exam  \n",
       "Gender Grade              \n",
       "F      PA              1  \n",
       "Female NN              2  \n",
       "       PA              9  \n",
       "M      NN              1  \n",
       "Male   NN              5  \n",
       "       PA             15  "
      ]
     },
     "execution_count": 43,
     "metadata": {},
     "output_type": "execute_result"
    }
   ],
   "source": [
    "grades.groupby(['Gender','Grade']).count()"
   ]
  },
  {
   "cell_type": "markdown",
   "metadata": {
    "id": "fy2WcMMQdUi7"
   },
   "source": [
    "Để ý rằng, kết quả gom nhóm có những dòng dữ liệu mang ý nghĩa giống nhau, ví dụ F và Female, M bà Male. Chúng ta sẽ xử lý vấn đề này trong phần Thao Tác Trên Dữ Liệu.\n"
   ]
  },
  {
   "cell_type": "markdown",
   "metadata": {
    "id": "042oQwHhJtcK"
   },
   "source": [
    "Sử dụng hàm `reset_index()` để chuyển kết quả sau khi gom nhóm ở trên thành 1 DataFrame"
   ]
  },
  {
   "cell_type": "code",
   "execution_count": 44,
   "metadata": {
    "colab": {
     "base_uri": "https://localhost:8080/",
     "height": 235
    },
    "id": "mVmIq1oqdUi7",
    "outputId": "31812c53-b490-41a0-f287-33735d37526f"
   },
   "outputs": [
    {
     "data": {
      "text/html": [
       "<div>\n",
       "<style scoped>\n",
       "    .dataframe tbody tr th:only-of-type {\n",
       "        vertical-align: middle;\n",
       "    }\n",
       "\n",
       "    .dataframe tbody tr th {\n",
       "        vertical-align: top;\n",
       "    }\n",
       "\n",
       "    .dataframe thead th {\n",
       "        text-align: right;\n",
       "    }\n",
       "</style>\n",
       "<table border=\"1\" class=\"dataframe\">\n",
       "  <thead>\n",
       "    <tr style=\"text-align: right;\">\n",
       "      <th></th>\n",
       "      <th>Gender</th>\n",
       "      <th>Grade</th>\n",
       "      <th>Student ID</th>\n",
       "      <th>Project Phase 1</th>\n",
       "      <th>Project Phase 2</th>\n",
       "      <th>Mid-Semester Test</th>\n",
       "      <th>Final Exam</th>\n",
       "    </tr>\n",
       "  </thead>\n",
       "  <tbody>\n",
       "    <tr>\n",
       "      <th>0</th>\n",
       "      <td>F</td>\n",
       "      <td>PA</td>\n",
       "      <td>1</td>\n",
       "      <td>1</td>\n",
       "      <td>1</td>\n",
       "      <td>1</td>\n",
       "      <td>1</td>\n",
       "    </tr>\n",
       "    <tr>\n",
       "      <th>1</th>\n",
       "      <td>Female</td>\n",
       "      <td>NN</td>\n",
       "      <td>3</td>\n",
       "      <td>3</td>\n",
       "      <td>2</td>\n",
       "      <td>3</td>\n",
       "      <td>2</td>\n",
       "    </tr>\n",
       "    <tr>\n",
       "      <th>2</th>\n",
       "      <td>Female</td>\n",
       "      <td>PA</td>\n",
       "      <td>10</td>\n",
       "      <td>10</td>\n",
       "      <td>9</td>\n",
       "      <td>10</td>\n",
       "      <td>9</td>\n",
       "    </tr>\n",
       "    <tr>\n",
       "      <th>3</th>\n",
       "      <td>M</td>\n",
       "      <td>NN</td>\n",
       "      <td>1</td>\n",
       "      <td>1</td>\n",
       "      <td>1</td>\n",
       "      <td>1</td>\n",
       "      <td>1</td>\n",
       "    </tr>\n",
       "    <tr>\n",
       "      <th>4</th>\n",
       "      <td>Male</td>\n",
       "      <td>NN</td>\n",
       "      <td>6</td>\n",
       "      <td>6</td>\n",
       "      <td>5</td>\n",
       "      <td>6</td>\n",
       "      <td>5</td>\n",
       "    </tr>\n",
       "    <tr>\n",
       "      <th>5</th>\n",
       "      <td>Male</td>\n",
       "      <td>PA</td>\n",
       "      <td>16</td>\n",
       "      <td>16</td>\n",
       "      <td>16</td>\n",
       "      <td>16</td>\n",
       "      <td>15</td>\n",
       "    </tr>\n",
       "  </tbody>\n",
       "</table>\n",
       "</div>"
      ],
      "text/plain": [
       "   Gender Grade  Student ID  Project Phase 1  Project Phase 2  \\\n",
       "0       F    PA           1                1                1   \n",
       "1  Female    NN           3                3                2   \n",
       "2  Female    PA          10               10                9   \n",
       "3       M    NN           1                1                1   \n",
       "4    Male    NN           6                6                5   \n",
       "5    Male    PA          16               16               16   \n",
       "\n",
       "   Mid-Semester Test  Final Exam  \n",
       "0                  1           1  \n",
       "1                  3           2  \n",
       "2                 10           9  \n",
       "3                  1           1  \n",
       "4                  6           5  \n",
       "5                 16          15  "
      ]
     },
     "execution_count": 44,
     "metadata": {},
     "output_type": "execute_result"
    }
   ],
   "source": [
    "grades.groupby(['Gender','Grade']).count().reset_index()"
   ]
  },
  {
   "cell_type": "markdown",
   "metadata": {
    "id": "Bu3UVIttdUi8"
   },
   "source": [
    "## THAO TÁC TRÊN DỮ LIỆU"
   ]
  },
  {
   "cell_type": "markdown",
   "metadata": {
    "id": "wX5cp2yqdUi8"
   },
   "source": [
    "### Xử Lý Dữ Liệu Bị Thiếu"
   ]
  },
  {
   "cell_type": "markdown",
   "metadata": {
    "id": "g6DfDO9CdUi8"
   },
   "source": [
    "Xử lý dữ liệu bị thiếu là một công việc tốn nhiều thời gian nhưng rất quan trọng. Trước hết, chúng ta cần phải xác định được dữ liệu còn thiếu sau đó cần tìm hiểu xem vì sau chúng bị thiếu?\n",
    "\n",
    "Có hai phương án để xử lý các dữ liệu bị thiếu:\n",
    "1. Xóa bỏ các dòng, cột chứa chúng.\n",
    "2. Thay thế các giá trị thiếu bằng những giá trị khác.\n",
    "\n",
    "Các giá trị bị thiếu trong Python được ký hiệu là `na` hoặc `null`. Ngoài ra, trong `Numpy` ký hiệu giá trị còn thiếu là `NaN` (Not a Number)."
   ]
  },
  {
   "cell_type": "markdown",
   "metadata": {
    "id": "FdVHp94ydUi9"
   },
   "source": [
    "Trước tiên, chúng ta thử đếm những giá trị bị thiếu trong ví dụ trên."
   ]
  },
  {
   "cell_type": "code",
   "execution_count": 45,
   "metadata": {
    "colab": {
     "base_uri": "https://localhost:8080/"
    },
    "id": "sG954x5qdUi9",
    "outputId": "e12ca6b2-14e5-4371-df4e-92e853ab8c8b"
   },
   "outputs": [
    {
     "data": {
      "text/plain": [
       "Student ID           0\n",
       "Gender               3\n",
       "Project Phase 1      0\n",
       "Project Phase 2      3\n",
       "Mid-Semester Test    0\n",
       "Final Exam           4\n",
       "Grade                0\n",
       "dtype: int64"
      ]
     },
     "execution_count": 45,
     "metadata": {},
     "output_type": "execute_result"
    }
   ],
   "source": [
    "grades.isna().sum()"
   ]
  },
  {
   "cell_type": "markdown",
   "metadata": {
    "id": "u1RWFatWdUi9"
   },
   "source": [
    "Hàm `dropna()` dùng để xoá tất cả các dòng chứa ít nhất một giá trị bị thiếu."
   ]
  },
  {
   "cell_type": "code",
   "execution_count": 46,
   "metadata": {
    "colab": {
     "base_uri": "https://localhost:8080/"
    },
    "id": "SXw-y6bodUi-",
    "outputId": "03817323-745c-4779-a7eb-65216aeee8eb"
   },
   "outputs": [
    {
     "data": {
      "text/plain": [
       "(33, 7)"
      ]
     },
     "execution_count": 46,
     "metadata": {},
     "output_type": "execute_result"
    }
   ],
   "source": [
    "grades_no_na = grades.dropna()\n",
    "grades_no_na.shape"
   ]
  },
  {
   "cell_type": "markdown",
   "metadata": {
    "id": "wV6eg0_MfoO0"
   },
   "source": [
    "Thử kiểm tra số lượng giá trị bị thiếu mỗi cột sau khi sử dụng hàm `dropna()`"
   ]
  },
  {
   "cell_type": "code",
   "execution_count": 47,
   "metadata": {
    "colab": {
     "base_uri": "https://localhost:8080/"
    },
    "id": "rX6e_KOgdUi-",
    "outputId": "5f4460e0-0f60-4f91-a19c-6d5800a8b466"
   },
   "outputs": [
    {
     "data": {
      "text/plain": [
       "Student ID           0\n",
       "Gender               0\n",
       "Project Phase 1      0\n",
       "Project Phase 2      0\n",
       "Mid-Semester Test    0\n",
       "Final Exam           0\n",
       "Grade                0\n",
       "dtype: int64"
      ]
     },
     "execution_count": 47,
     "metadata": {},
     "output_type": "execute_result"
    }
   ],
   "source": [
    "grades_no_na.isna().sum()"
   ]
  },
  {
   "cell_type": "markdown",
   "metadata": {
    "id": "SYTTPNVFdUjN"
   },
   "source": [
    "Tương tự, chúng ta thử kiểm tra cột `Gender`."
   ]
  },
  {
   "cell_type": "code",
   "execution_count": 48,
   "metadata": {
    "colab": {
     "base_uri": "https://localhost:8080/"
    },
    "id": "vB6WExPCdUjN",
    "outputId": "e1c6c56f-546f-42cb-b1d3-5d08f3982f2b"
   },
   "outputs": [
    {
     "data": {
      "text/plain": [
       "Male      22\n",
       "Female    13\n",
       "M          1\n",
       "F          1\n",
       "Name: Gender, dtype: int64"
      ]
     },
     "execution_count": 48,
     "metadata": {},
     "output_type": "execute_result"
    }
   ],
   "source": [
    "grades['Gender'].value_counts()"
   ]
  },
  {
   "cell_type": "code",
   "execution_count": 49,
   "metadata": {
    "colab": {
     "base_uri": "https://localhost:8080/"
    },
    "id": "Kg5ZNLGJdUjO",
    "outputId": "a29bfa84-ee5f-48ef-8679-61ae10db451c"
   },
   "outputs": [
    {
     "data": {
      "text/plain": [
       "3"
      ]
     },
     "execution_count": 49,
     "metadata": {},
     "output_type": "execute_result"
    }
   ],
   "source": [
    "grades['Gender'].isna().sum()"
   ]
  },
  {
   "cell_type": "markdown",
   "metadata": {
    "id": "a7IFXNpGdUjO"
   },
   "source": [
    "Như vậy, cột `Gender` có 3 dữ liệu bị thiếu. Sử dụng hàm `fillna()` để thay các giá trị còn thiếu bằng giá trị  \"Unknown\""
   ]
  },
  {
   "cell_type": "code",
   "execution_count": 50,
   "metadata": {
    "colab": {
     "base_uri": "https://localhost:8080/"
    },
    "id": "Xu-FyQJKdUjP",
    "outputId": "25a93884-5afe-4c9a-9569-2791ba152b6c",
    "scrolled": true
   },
   "outputs": [
    {
     "data": {
      "text/plain": [
       "Male       22\n",
       "Female     13\n",
       "Unknown     3\n",
       "M           1\n",
       "F           1\n",
       "Name: Gender, dtype: int64"
      ]
     },
     "execution_count": 50,
     "metadata": {},
     "output_type": "execute_result"
    }
   ],
   "source": [
    "grades['Gender'].fillna('Unknown', inplace=True)\n",
    "\n",
    "# this also works:\n",
    "# # grades[['Gender']] = grades[['Gender']].fillna('Unknown')\n",
    "\n",
    "grades['Gender'].value_counts()"
   ]
  },
  {
   "cell_type": "markdown",
   "metadata": {
    "id": "Sl-4Ygb5dUjP"
   },
   "source": [
    "Kiểm tra lại các giá trị bị thiếu."
   ]
  },
  {
   "cell_type": "code",
   "execution_count": 51,
   "metadata": {
    "colab": {
     "base_uri": "https://localhost:8080/"
    },
    "id": "dFtsRN2fdUjP",
    "outputId": "916e2f1b-e807-4e57-d8ce-6ff1ca1f9b44"
   },
   "outputs": [
    {
     "data": {
      "text/plain": [
       "Student ID           0\n",
       "Gender               0\n",
       "Project Phase 1      0\n",
       "Project Phase 2      3\n",
       "Mid-Semester Test    0\n",
       "Final Exam           4\n",
       "Grade                0\n",
       "dtype: int64"
      ]
     },
     "execution_count": 51,
     "metadata": {},
     "output_type": "execute_result"
    }
   ],
   "source": [
    "grades.isna().sum()"
   ]
  },
  {
   "cell_type": "markdown",
   "metadata": {
    "id": "-aUHVzp2dUjQ"
   },
   "source": [
    "Để ý rằng, một số cột điểm như *Project Phase 2* và *Final Exam* có chứa dữ liệu bị thiếu. Tuy nhiên, điều này có nghĩa là do sinh viên vắng mặt trong lúc làm bài; vì vậy, ta sẽ chuyển các giá trị bị thiếu này thành 0 điểm."
   ]
  },
  {
   "cell_type": "code",
   "execution_count": 52,
   "metadata": {
    "id": "eac-MOQLdUjR"
   },
   "outputs": [],
   "source": [
    "grades = grades.fillna(0)"
   ]
  },
  {
   "cell_type": "markdown",
   "metadata": {
    "id": "R07XvBwadUjR"
   },
   "source": [
    "Kiểm tra lại một lần nữa"
   ]
  },
  {
   "cell_type": "code",
   "execution_count": 53,
   "metadata": {
    "colab": {
     "base_uri": "https://localhost:8080/"
    },
    "id": "V-fg4hsidUjR",
    "outputId": "ed99ac7e-16cd-4465-bb44-bc6d221ce49f"
   },
   "outputs": [
    {
     "data": {
      "text/plain": [
       "Student ID           0\n",
       "Gender               0\n",
       "Project Phase 1      0\n",
       "Project Phase 2      0\n",
       "Mid-Semester Test    0\n",
       "Final Exam           0\n",
       "Grade                0\n",
       "dtype: int64"
      ]
     },
     "execution_count": 53,
     "metadata": {},
     "output_type": "execute_result"
    }
   ],
   "source": [
    "grades.isna().sum()"
   ]
  },
  {
   "cell_type": "markdown",
   "metadata": {
    "id": "bkjMsuszdUjS"
   },
   "source": [
    "### Xử Lý Khi Số Lượng Giá Trị Phân Biệt Bất Thường"
   ]
  },
  {
   "cell_type": "markdown",
   "metadata": {
    "id": "NIptu9pCdUjS"
   },
   "source": [
    "Đôi khi, chúng ta sẽ gặp trường hợp số lượng các giá trị phân biệt của các trường dữ liệu (cột) mang giá trị khác biệt (bất thường). Những trường hợp này cần phải có xử lý phù hợp.\n",
    "\n",
    "Xét ví dụ trên, trước hết thử kiểm tra số lượng dữ liệu phân biệt của các trường (cột) của dữ liệu, bằng cách sử dụng hàm `nunique()`"
   ]
  },
  {
   "cell_type": "code",
   "execution_count": 54,
   "metadata": {
    "colab": {
     "base_uri": "https://localhost:8080/"
    },
    "id": "uljo7oeCdUjS",
    "outputId": "8ca74794-a03b-4e59-b0e0-c8f2b955dd4e"
   },
   "outputs": [
    {
     "data": {
      "text/plain": [
       "Student ID           40\n",
       "Gender                5\n",
       "Project Phase 1      15\n",
       "Project Phase 2      19\n",
       "Mid-Semester Test    34\n",
       "Final Exam           31\n",
       "Grade                 2\n",
       "dtype: int64"
      ]
     },
     "execution_count": 54,
     "metadata": {},
     "output_type": "execute_result"
    }
   ],
   "source": [
    "grades.nunique()"
   ]
  },
  {
   "cell_type": "markdown",
   "metadata": {
    "id": "EZyW_iixdUjT"
   },
   "source": [
    "Trước hết, cần để ý rằng tất cả các giá trị trong cột `Student ID` là khác nhau vì mỗi sinh viên có mã khác nhau. Vì vậy, ta sẽ bỏ cột này đi vì nó không có nghĩa khi thực hiện thống kê."
   ]
  },
  {
   "cell_type": "code",
   "execution_count": 55,
   "metadata": {
    "id": "EdvSkV5ndUjT"
   },
   "outputs": [],
   "source": [
    "grades.drop(columns=['Student ID'], inplace=True)"
   ]
  },
  {
   "cell_type": "markdown",
   "metadata": {
    "id": "ETB2v_UBdUjT"
   },
   "source": [
    "Tiếp theo, cần để ý rằng cột `Gender` có đện giá trị phân biệt. Sử dụng hàm `value_counts()` thử ta liệt kê các giá trị này:"
   ]
  },
  {
   "cell_type": "code",
   "execution_count": 56,
   "metadata": {
    "colab": {
     "base_uri": "https://localhost:8080/"
    },
    "id": "I_ZU4JAxdUjU",
    "outputId": "301bf92a-04f6-45a6-f256-5724263f56ad"
   },
   "outputs": [
    {
     "data": {
      "text/plain": [
       "Male       22\n",
       "Female     13\n",
       "Unknown     3\n",
       "M           1\n",
       "F           1\n",
       "Name: Gender, dtype: int64"
      ]
     },
     "execution_count": 56,
     "metadata": {},
     "output_type": "execute_result"
    }
   ],
   "source": [
    "grades['Gender'].value_counts()"
   ]
  },
  {
   "cell_type": "markdown",
   "metadata": {
    "id": "DfF8cboTdUjU"
   },
   "source": [
    "Kết quả trên cho ta thấy lý do là vì giới tính nam mang 2 giá trị phân biệt là (Male và M), tương tự giới tính nữ cũng mang hai giá trị phân biệt là (Female và F). Chúng ta sẽ chuẩn hóa các giá trị này bằng cách sử dụng hàm `replace()` như dưới đây:"
   ]
  },
  {
   "cell_type": "code",
   "execution_count": 57,
   "metadata": {
    "id": "V7i1XBMLdUjV"
   },
   "outputs": [],
   "source": [
    "grades.replace(['M', 'male'], 'Male', inplace=True)"
   ]
  },
  {
   "cell_type": "code",
   "execution_count": 58,
   "metadata": {
    "id": "1Jt0o1FudUjV"
   },
   "outputs": [],
   "source": [
    "grades.replace(['F', 'female'], 'Female', inplace=True)"
   ]
  },
  {
   "cell_type": "markdown",
   "metadata": {
    "id": "7gBI7XpUdUjV"
   },
   "source": [
    "Kiểm tra lại kết quả."
   ]
  },
  {
   "cell_type": "code",
   "execution_count": 59,
   "metadata": {
    "colab": {
     "base_uri": "https://localhost:8080/"
    },
    "id": "418OMasLdUjV",
    "outputId": "4aed8c45-f1d8-4bb9-d0a8-d32fc6f0d33b"
   },
   "outputs": [
    {
     "data": {
      "text/plain": [
       "Male       23\n",
       "Female     14\n",
       "Unknown     3\n",
       "Name: Gender, dtype: int64"
      ]
     },
     "execution_count": 59,
     "metadata": {},
     "output_type": "execute_result"
    }
   ],
   "source": [
    "grades['Gender'].value_counts()"
   ]
  },
  {
   "cell_type": "markdown",
   "metadata": {
    "id": "LqneULMTdUjW"
   },
   "source": [
    "### Phát Hiện Ngoại Lệ"
   ]
  },
  {
   "cell_type": "markdown",
   "metadata": {
    "id": "Lln1SP9vdUjW"
   },
   "source": [
    "Ngoại lệ (outliers) là các giá trị rất khác biệt so với các giá trị còn lại trong bộ dữ liệu. Giá trị ngoại lệ thường nằm rất so với tâm của dữ liệu. Một trong những cách có thể dùng để xác định ngoại lệ (outliers) đó là vẽ đồ thị hộp (boxplot). Pandas cho phép người dùng có thể vẽ đồ thị hộp từ cột dữ liệu của DataFrame\n",
    "\n",
    "Để vẽ, trước tiên cần tại thư viện `matplotlib.pyplot`"
   ]
  },
  {
   "cell_type": "code",
   "execution_count": 60,
   "metadata": {
    "id": "4vJPr6BndUjX"
   },
   "outputs": [],
   "source": [
    "import matplotlib.pyplot as plt\n",
    "\n",
    "plt.style.use(\"ggplot\")   # chọn style là \"ggplot\" để hiển thị dễ nhìn hơn"
   ]
  },
  {
   "cell_type": "code",
   "execution_count": 61,
   "metadata": {
    "colab": {
     "base_uri": "https://localhost:8080/",
     "height": 265
    },
    "id": "uN0mh1GSdUjX",
    "outputId": "f57dd3a4-4824-4d46-b61a-42982011d5d5"
   },
   "outputs": [
    {
     "data": {
      "image/png": "[encoded data removed]",
      "text/plain": [
       "<Figure size 432x288 with 1 Axes>"
      ]
     },
     "metadata": {},
     "output_type": "display_data"
    }
   ],
   "source": [
    "grades.boxplot(column=['Project Phase 1', 'Project Phase 2', 'Mid-Semester Test', 'Final Exam']);"
   ]
  },
  {
   "cell_type": "markdown",
   "metadata": {
    "id": "e6gdno38dUjX"
   },
   "source": [
    "Một đồ thị khác có thể dùng để phát hiện ngoại lệ đó là **histogram**. Bạn cũng có thể vẽ histogram từ Pandas như sau:"
   ]
  },
  {
   "cell_type": "code",
   "execution_count": 62,
   "metadata": {
    "colab": {
     "base_uri": "https://localhost:8080/",
     "height": 281
    },
    "id": "9k63mk05dUjY",
    "outputId": "4cfc4fc6-fa7a-4e8e-c831-9a1aeca8c172"
   },
   "outputs": [
    {
     "data": {
      "image/png": "[encoded data removed]",
      "text/plain": [
       "<Figure size 432x288 with 4 Axes>"
      ]
     },
     "metadata": {},
     "output_type": "display_data"
    }
   ],
   "source": [
    "grades.hist(column=['Project Phase 1', 'Project Phase 2', 'Mid-Semester Test', 'Final Exam']);"
   ]
  },
  {
   "cell_type": "markdown",
   "metadata": {
    "id": "j1wqT2_MdUjY"
   },
   "source": [
    "## LƯU DỮ LIỆU"
   ]
  },
  {
   "cell_type": "markdown",
   "metadata": {
    "id": "UdZrb3iVdUjZ"
   },
   "source": [
    "Pandas cho phép lưu đối tượng DataFrame thành nhiều loại định dạng như: csv, excel, json, html, sql... \n",
    "\n",
    "Trước hết, chúng ta đổi thử tên cột của đối tượng `grades` sử dụng hàm `rename()`, sau đó lưu xuống file `grades_saved.csv`"
   ]
  },
  {
   "cell_type": "code",
   "execution_count": 63,
   "metadata": {
    "colab": {
     "base_uri": "https://localhost:8080/",
     "height": 359
    },
    "id": "5oe_wT2JdUjZ",
    "outputId": "449c1263-af1e-4d55-e2fc-f872093f7513"
   },
   "outputs": [
    {
     "data": {
      "text/html": [
       "<div>\n",
       "<style scoped>\n",
       "    .dataframe tbody tr th:only-of-type {\n",
       "        vertical-align: middle;\n",
       "    }\n",
       "\n",
       "    .dataframe tbody tr th {\n",
       "        vertical-align: top;\n",
       "    }\n",
       "\n",
       "    .dataframe thead th {\n",
       "        text-align: right;\n",
       "    }\n",
       "</style>\n",
       "<table border=\"1\" class=\"dataframe\">\n",
       "  <thead>\n",
       "    <tr style=\"text-align: right;\">\n",
       "      <th></th>\n",
       "      <th>Gender</th>\n",
       "      <th>Project 1</th>\n",
       "      <th>Project 2</th>\n",
       "      <th>Test</th>\n",
       "      <th>Final Exam</th>\n",
       "      <th>Grade</th>\n",
       "    </tr>\n",
       "  </thead>\n",
       "  <tbody>\n",
       "    <tr>\n",
       "      <th>0</th>\n",
       "      <td>Male</td>\n",
       "      <td>18.25</td>\n",
       "      <td>15.5</td>\n",
       "      <td>94</td>\n",
       "      <td>61.0</td>\n",
       "      <td>PA</td>\n",
       "    </tr>\n",
       "    <tr>\n",
       "      <th>1</th>\n",
       "      <td>Female</td>\n",
       "      <td>17.75</td>\n",
       "      <td>30.0</td>\n",
       "      <td>79</td>\n",
       "      <td>62.0</td>\n",
       "      <td>PA</td>\n",
       "    </tr>\n",
       "    <tr>\n",
       "      <th>2</th>\n",
       "      <td>Male</td>\n",
       "      <td>0.00</td>\n",
       "      <td>0.0</td>\n",
       "      <td>78</td>\n",
       "      <td>15.0</td>\n",
       "      <td>NN</td>\n",
       "    </tr>\n",
       "    <tr>\n",
       "      <th>3</th>\n",
       "      <td>Male</td>\n",
       "      <td>20.00</td>\n",
       "      <td>25.0</td>\n",
       "      <td>69</td>\n",
       "      <td>65.0</td>\n",
       "      <td>PA</td>\n",
       "    </tr>\n",
       "    <tr>\n",
       "      <th>4</th>\n",
       "      <td>Male</td>\n",
       "      <td>18.75</td>\n",
       "      <td>30.0</td>\n",
       "      <td>96</td>\n",
       "      <td>51.0</td>\n",
       "      <td>PA</td>\n",
       "    </tr>\n",
       "    <tr>\n",
       "      <th>5</th>\n",
       "      <td>Male</td>\n",
       "      <td>17.00</td>\n",
       "      <td>23.5</td>\n",
       "      <td>80</td>\n",
       "      <td>59.0</td>\n",
       "      <td>PA</td>\n",
       "    </tr>\n",
       "    <tr>\n",
       "      <th>6</th>\n",
       "      <td>Unknown</td>\n",
       "      <td>19.75</td>\n",
       "      <td>19.5</td>\n",
       "      <td>82</td>\n",
       "      <td>76.0</td>\n",
       "      <td>PA</td>\n",
       "    </tr>\n",
       "    <tr>\n",
       "      <th>7</th>\n",
       "      <td>Male</td>\n",
       "      <td>20.00</td>\n",
       "      <td>28.0</td>\n",
       "      <td>95</td>\n",
       "      <td>44.0</td>\n",
       "      <td>PA</td>\n",
       "    </tr>\n",
       "    <tr>\n",
       "      <th>8</th>\n",
       "      <td>Male</td>\n",
       "      <td>18.00</td>\n",
       "      <td>23.0</td>\n",
       "      <td>50</td>\n",
       "      <td>33.0</td>\n",
       "      <td>NN</td>\n",
       "    </tr>\n",
       "    <tr>\n",
       "      <th>9</th>\n",
       "      <td>Female</td>\n",
       "      <td>20.00</td>\n",
       "      <td>30.0</td>\n",
       "      <td>92</td>\n",
       "      <td>63.0</td>\n",
       "      <td>PA</td>\n",
       "    </tr>\n",
       "  </tbody>\n",
       "</table>\n",
       "</div>"
      ],
      "text/plain": [
       "    Gender  Project 1  Project 2  Test  Final Exam Grade\n",
       "0     Male      18.25       15.5    94        61.0    PA\n",
       "1   Female      17.75       30.0    79        62.0    PA\n",
       "2     Male       0.00        0.0    78        15.0    NN\n",
       "3     Male      20.00       25.0    69        65.0    PA\n",
       "4     Male      18.75       30.0    96        51.0    PA\n",
       "5     Male      17.00       23.5    80        59.0    PA\n",
       "6  Unknown      19.75       19.5    82        76.0    PA\n",
       "7     Male      20.00       28.0    95        44.0    PA\n",
       "8     Male      18.00       23.0    50        33.0    NN\n",
       "9   Female      20.00       30.0    92        63.0    PA"
      ]
     },
     "execution_count": 63,
     "metadata": {},
     "output_type": "execute_result"
    }
   ],
   "source": [
    "grades.rename(columns={'Project Phase 1': 'Project 1',\n",
    "                       'Project Phase 2': 'Project 2',\n",
    "                       'Mid-Semester Test': 'Test'}, \n",
    "              inplace=True)\n",
    "grades.head(10)"
   ]
  },
  {
   "cell_type": "code",
   "execution_count": 64,
   "metadata": {
    "id": "wxVEyonbdUja"
   },
   "outputs": [],
   "source": [
    "grades.to_csv(\"grades_saved.csv\", index=False)"
   ]
  },
  {
   "cell_type": "markdown",
   "metadata": {
    "id": "bq_hmzuodUja"
   },
   "source": [
    "Bây giờ, bạn hãy thử mở file `grades_saved.csv` bằng excel và kiểm tra."
   ]
  },
  {
   "cell_type": "markdown",
   "metadata": {
    "id": "CUCIgk3EtJB6"
   },
   "source": [
    "## TÓM TẮT\n",
    "\n",
    "Trong tài liệu này, hướng dẫn bạn các thao tác căn bản khi sử dụng thư viện `Pandas` để xử lý dữ liệu. Thông qua bài hướng dẫn bạn cần nắm một số ý chính như:\n",
    "- Biết hai kiểu dữ liệu chính trong Pandas là `Series` và `DataFrame`\n",
    "- Đọc và lưu dữ liệu dạng file có định dạng .csv\n",
    "- Khám phá dữ liệu thông qua các thao tác như: hiển thị một số dòng dữ liệu, xem các thông tin thống kê của các cột, xem một một tập dữ liệu con, gom nhóm, sắp xếp dữ liệu.\n",
    "- Xử lý dữ liệu trong một số trường hợp như: dữ liệu bị thiếu, có bất thường trong số lượng các giá trị phân biệt của trường dữ liệu, và dữ liệu có ngoại lệ."
   ]
  },
  {
   "cell_type": "markdown",
   "metadata": {},
   "source": [
    "---\n",
    "\n",
    "## THAM KHẢO\n",
    "\n",
    "- [10 minutes to Pandas](https://pandas.pydata.org/docs/user_guide/10min.html) (official)\n",
    "- [W3School Pandas](https://www.w3schools.com/python/pandas/default.asp)\n",
    "\n",
    "---\n"
   ]
  },
  {
   "cell_type": "markdown",
   "metadata": {},
   "source": [
    "## LUYỆN TẬP"
   ]
  },
  {
   "cell_type": "markdown",
   "metadata": {},
   "source": [
    "Thông tin các bộ dữ liệu:\n",
    "\n",
    "- `car-sales.csv`: bộ dữ liệu chứa thông tin của các ôtô cũ ở một cửa hàng\n"
   ]
  },
  {
   "cell_type": "markdown",
   "metadata": {},
   "source": [
    "### 1. Đọc dữ liệu"
   ]
  },
  {
   "cell_type": "code",
   "execution_count": 78,
   "metadata": {},
   "outputs": [],
   "source": [
    "# YOUR CODE HERE\n",
    "\n",
    "df = pd.read_csv(\"./data/car-sales.csv\")"
   ]
  },
  {
   "cell_type": "markdown",
   "metadata": {},
   "source": [
    "### 2. Dữ liệu có bao nhiêu dòng, bao nhiêu cột\n",
    "\n",
    "Đáp án: (10 dòng, 5 cột)"
   ]
  },
  {
   "cell_type": "code",
   "execution_count": 80,
   "metadata": {},
   "outputs": [
    {
     "data": {
      "text/plain": [
       "(10, 5)"
      ]
     },
     "execution_count": 80,
     "metadata": {},
     "output_type": "execute_result"
    }
   ],
   "source": [
    "# YOUR CODE HERE\n",
    "df.shape"
   ]
  },
  {
   "cell_type": "markdown",
   "metadata": {},
   "source": [
    "### 3. Cho biết thuộc tính nào là thuộc tính phân loại, thuộc tính nào là thuộc tính định lượng"
   ]
  },
  {
   "cell_type": "markdown",
   "metadata": {},
   "source": [
    "- Định tính (phân loại): Manufacturer, Colour\n",
    "- Định lượng: Odemeter, Price, Doors"
   ]
  },
  {
   "cell_type": "code",
   "execution_count": 98,
   "metadata": {},
   "outputs": [
    {
     "ename": "KeyError",
     "evalue": "dtype('O')",
     "output_type": "error",
     "traceback": [
      "\u001b[1;31m---------------------------------------------------------------------------\u001b[0m",
      "\u001b[1;31mKeyError\u001b[0m                                  Traceback (most recent call last)",
      "\u001b[1;32mc:\\ProgramData\\Anaconda3\\lib\\site-packages\\pandas\\core\\indexes\\base.py\u001b[0m in \u001b[0;36mget_loc\u001b[1;34m(self, key, method, tolerance)\u001b[0m\n\u001b[0;32m   2894\u001b[0m             \u001b[1;32mtry\u001b[0m\u001b[1;33m:\u001b[0m\u001b[1;33m\u001b[0m\u001b[1;33m\u001b[0m\u001b[0m\n\u001b[1;32m-> 2895\u001b[1;33m                 \u001b[1;32mreturn\u001b[0m \u001b[0mself\u001b[0m\u001b[1;33m.\u001b[0m\u001b[0m_engine\u001b[0m\u001b[1;33m.\u001b[0m\u001b[0mget_loc\u001b[0m\u001b[1;33m(\u001b[0m\u001b[0mcasted_key\u001b[0m\u001b[1;33m)\u001b[0m\u001b[1;33m\u001b[0m\u001b[1;33m\u001b[0m\u001b[0m\n\u001b[0m\u001b[0;32m   2896\u001b[0m             \u001b[1;32mexcept\u001b[0m \u001b[0mKeyError\u001b[0m \u001b[1;32mas\u001b[0m \u001b[0merr\u001b[0m\u001b[1;33m:\u001b[0m\u001b[1;33m\u001b[0m\u001b[1;33m\u001b[0m\u001b[0m\n",
      "\u001b[1;32mpandas\\_libs\\index.pyx\u001b[0m in \u001b[0;36mpandas._libs.index.IndexEngine.get_loc\u001b[1;34m()\u001b[0m\n",
      "\u001b[1;32mpandas\\_libs\\index.pyx\u001b[0m in \u001b[0;36mpandas._libs.index.IndexEngine.get_loc\u001b[1;34m()\u001b[0m\n",
      "\u001b[1;32mpandas\\_libs\\hashtable_class_helper.pxi\u001b[0m in \u001b[0;36mpandas._libs.hashtable.PyObjectHashTable.get_item\u001b[1;34m()\u001b[0m\n",
      "\u001b[1;32mpandas\\_libs\\hashtable_class_helper.pxi\u001b[0m in \u001b[0;36mpandas._libs.hashtable.PyObjectHashTable.get_item\u001b[1;34m()\u001b[0m\n",
      "\u001b[1;31mKeyError\u001b[0m: dtype('O')",
      "\nThe above exception was the direct cause of the following exception:\n",
      "\u001b[1;31mKeyError\u001b[0m                                  Traceback (most recent call last)",
      "\u001b[1;32m<ipython-input-98-46d0c7f19a55>\u001b[0m in \u001b[0;36m<module>\u001b[1;34m\u001b[0m\n\u001b[0;32m      8\u001b[0m \u001b[1;31m# df.Doors.dtype\u001b[0m\u001b[1;33m\u001b[0m\u001b[1;33m\u001b[0m\u001b[1;33m\u001b[0m\u001b[0m\n\u001b[0;32m      9\u001b[0m \u001b[1;32mfor\u001b[0m \u001b[0mi\u001b[0m \u001b[1;32min\u001b[0m \u001b[0mthuoctinh\u001b[0m\u001b[1;33m:\u001b[0m\u001b[1;33m\u001b[0m\u001b[1;33m\u001b[0m\u001b[0m\n\u001b[1;32m---> 10\u001b[1;33m     \u001b[1;32mif\u001b[0m \u001b[0mthuoctinh\u001b[0m\u001b[1;33m[\u001b[0m\u001b[0mi\u001b[0m\u001b[1;33m]\u001b[0m\u001b[1;33m.\u001b[0m\u001b[0mdtype\u001b[0m \u001b[1;33m==\u001b[0m \u001b[1;34m'O'\u001b[0m\u001b[1;33m:\u001b[0m\u001b[1;33m\u001b[0m\u001b[1;33m\u001b[0m\u001b[0m\n\u001b[0m\u001b[0;32m     11\u001b[0m         \u001b[0mDt\u001b[0m\u001b[1;33m.\u001b[0m\u001b[0mappend\u001b[0m\u001b[1;33m(\u001b[0m\u001b[0mi\u001b[0m\u001b[1;33m)\u001b[0m\u001b[1;33m\u001b[0m\u001b[1;33m\u001b[0m\u001b[0m\n\u001b[0;32m     12\u001b[0m         \u001b[0mdt\u001b[0m\u001b[1;33m+=\u001b[0m\u001b[1;36m1\u001b[0m\u001b[1;33m\u001b[0m\u001b[1;33m\u001b[0m\u001b[0m\n",
      "\u001b[1;32mc:\\ProgramData\\Anaconda3\\lib\\site-packages\\pandas\\core\\series.py\u001b[0m in \u001b[0;36m__getitem__\u001b[1;34m(self, key)\u001b[0m\n\u001b[0;32m    904\u001b[0m             \u001b[1;32mreturn\u001b[0m \u001b[0mself\u001b[0m\u001b[1;33m.\u001b[0m\u001b[0m_get_values\u001b[0m\u001b[1;33m(\u001b[0m\u001b[0mkey\u001b[0m\u001b[1;33m)\u001b[0m\u001b[1;33m\u001b[0m\u001b[1;33m\u001b[0m\u001b[0m\n\u001b[0;32m    905\u001b[0m \u001b[1;33m\u001b[0m\u001b[0m\n\u001b[1;32m--> 906\u001b[1;33m         \u001b[1;32mreturn\u001b[0m \u001b[0mself\u001b[0m\u001b[1;33m.\u001b[0m\u001b[0m_get_with\u001b[0m\u001b[1;33m(\u001b[0m\u001b[0mkey\u001b[0m\u001b[1;33m)\u001b[0m\u001b[1;33m\u001b[0m\u001b[1;33m\u001b[0m\u001b[0m\n\u001b[0m\u001b[0;32m    907\u001b[0m \u001b[1;33m\u001b[0m\u001b[0m\n\u001b[0;32m    908\u001b[0m     \u001b[1;32mdef\u001b[0m \u001b[0m_get_with\u001b[0m\u001b[1;33m(\u001b[0m\u001b[0mself\u001b[0m\u001b[1;33m,\u001b[0m \u001b[0mkey\u001b[0m\u001b[1;33m)\u001b[0m\u001b[1;33m:\u001b[0m\u001b[1;33m\u001b[0m\u001b[1;33m\u001b[0m\u001b[0m\n",
      "\u001b[1;32mc:\\ProgramData\\Anaconda3\\lib\\site-packages\\pandas\\core\\series.py\u001b[0m in \u001b[0;36m_get_with\u001b[1;34m(self, key)\u001b[0m\n\u001b[0;32m    923\u001b[0m         \u001b[1;32melif\u001b[0m \u001b[1;32mnot\u001b[0m \u001b[0mis_list_like\u001b[0m\u001b[1;33m(\u001b[0m\u001b[0mkey\u001b[0m\u001b[1;33m)\u001b[0m\u001b[1;33m:\u001b[0m\u001b[1;33m\u001b[0m\u001b[1;33m\u001b[0m\u001b[0m\n\u001b[0;32m    924\u001b[0m             \u001b[1;31m# e.g. scalars that aren't recognized by lib.is_scalar, GH#32684\u001b[0m\u001b[1;33m\u001b[0m\u001b[1;33m\u001b[0m\u001b[1;33m\u001b[0m\u001b[0m\n\u001b[1;32m--> 925\u001b[1;33m             \u001b[1;32mreturn\u001b[0m \u001b[0mself\u001b[0m\u001b[1;33m.\u001b[0m\u001b[0mloc\u001b[0m\u001b[1;33m[\u001b[0m\u001b[0mkey\u001b[0m\u001b[1;33m]\u001b[0m\u001b[1;33m\u001b[0m\u001b[1;33m\u001b[0m\u001b[0m\n\u001b[0m\u001b[0;32m    926\u001b[0m \u001b[1;33m\u001b[0m\u001b[0m\n\u001b[0;32m    927\u001b[0m         \u001b[1;32mif\u001b[0m \u001b[1;32mnot\u001b[0m \u001b[0misinstance\u001b[0m\u001b[1;33m(\u001b[0m\u001b[0mkey\u001b[0m\u001b[1;33m,\u001b[0m \u001b[1;33m(\u001b[0m\u001b[0mlist\u001b[0m\u001b[1;33m,\u001b[0m \u001b[0mnp\u001b[0m\u001b[1;33m.\u001b[0m\u001b[0mndarray\u001b[0m\u001b[1;33m,\u001b[0m \u001b[0mExtensionArray\u001b[0m\u001b[1;33m,\u001b[0m \u001b[0mSeries\u001b[0m\u001b[1;33m,\u001b[0m \u001b[0mIndex\u001b[0m\u001b[1;33m)\u001b[0m\u001b[1;33m)\u001b[0m\u001b[1;33m:\u001b[0m\u001b[1;33m\u001b[0m\u001b[1;33m\u001b[0m\u001b[0m\n",
      "\u001b[1;32mc:\\ProgramData\\Anaconda3\\lib\\site-packages\\pandas\\core\\indexing.py\u001b[0m in \u001b[0;36m__getitem__\u001b[1;34m(self, key)\u001b[0m\n\u001b[0;32m    877\u001b[0m \u001b[1;33m\u001b[0m\u001b[0m\n\u001b[0;32m    878\u001b[0m             \u001b[0mmaybe_callable\u001b[0m \u001b[1;33m=\u001b[0m \u001b[0mcom\u001b[0m\u001b[1;33m.\u001b[0m\u001b[0mapply_if_callable\u001b[0m\u001b[1;33m(\u001b[0m\u001b[0mkey\u001b[0m\u001b[1;33m,\u001b[0m \u001b[0mself\u001b[0m\u001b[1;33m.\u001b[0m\u001b[0mobj\u001b[0m\u001b[1;33m)\u001b[0m\u001b[1;33m\u001b[0m\u001b[1;33m\u001b[0m\u001b[0m\n\u001b[1;32m--> 879\u001b[1;33m             \u001b[1;32mreturn\u001b[0m \u001b[0mself\u001b[0m\u001b[1;33m.\u001b[0m\u001b[0m_getitem_axis\u001b[0m\u001b[1;33m(\u001b[0m\u001b[0mmaybe_callable\u001b[0m\u001b[1;33m,\u001b[0m \u001b[0maxis\u001b[0m\u001b[1;33m=\u001b[0m\u001b[0maxis\u001b[0m\u001b[1;33m)\u001b[0m\u001b[1;33m\u001b[0m\u001b[1;33m\u001b[0m\u001b[0m\n\u001b[0m\u001b[0;32m    880\u001b[0m \u001b[1;33m\u001b[0m\u001b[0m\n\u001b[0;32m    881\u001b[0m     \u001b[1;32mdef\u001b[0m \u001b[0m_is_scalar_access\u001b[0m\u001b[1;33m(\u001b[0m\u001b[0mself\u001b[0m\u001b[1;33m,\u001b[0m \u001b[0mkey\u001b[0m\u001b[1;33m:\u001b[0m \u001b[0mTuple\u001b[0m\u001b[1;33m)\u001b[0m\u001b[1;33m:\u001b[0m\u001b[1;33m\u001b[0m\u001b[1;33m\u001b[0m\u001b[0m\n",
      "\u001b[1;32mc:\\ProgramData\\Anaconda3\\lib\\site-packages\\pandas\\core\\indexing.py\u001b[0m in \u001b[0;36m_getitem_axis\u001b[1;34m(self, key, axis)\u001b[0m\n\u001b[0;32m   1108\u001b[0m         \u001b[1;31m# fall thru to straight lookup\u001b[0m\u001b[1;33m\u001b[0m\u001b[1;33m\u001b[0m\u001b[1;33m\u001b[0m\u001b[0m\n\u001b[0;32m   1109\u001b[0m         \u001b[0mself\u001b[0m\u001b[1;33m.\u001b[0m\u001b[0m_validate_key\u001b[0m\u001b[1;33m(\u001b[0m\u001b[0mkey\u001b[0m\u001b[1;33m,\u001b[0m \u001b[0maxis\u001b[0m\u001b[1;33m)\u001b[0m\u001b[1;33m\u001b[0m\u001b[1;33m\u001b[0m\u001b[0m\n\u001b[1;32m-> 1110\u001b[1;33m         \u001b[1;32mreturn\u001b[0m \u001b[0mself\u001b[0m\u001b[1;33m.\u001b[0m\u001b[0m_get_label\u001b[0m\u001b[1;33m(\u001b[0m\u001b[0mkey\u001b[0m\u001b[1;33m,\u001b[0m \u001b[0maxis\u001b[0m\u001b[1;33m=\u001b[0m\u001b[0maxis\u001b[0m\u001b[1;33m)\u001b[0m\u001b[1;33m\u001b[0m\u001b[1;33m\u001b[0m\u001b[0m\n\u001b[0m\u001b[0;32m   1111\u001b[0m \u001b[1;33m\u001b[0m\u001b[0m\n\u001b[0;32m   1112\u001b[0m     \u001b[1;32mdef\u001b[0m \u001b[0m_get_slice_axis\u001b[0m\u001b[1;33m(\u001b[0m\u001b[0mself\u001b[0m\u001b[1;33m,\u001b[0m \u001b[0mslice_obj\u001b[0m\u001b[1;33m:\u001b[0m \u001b[0mslice\u001b[0m\u001b[1;33m,\u001b[0m \u001b[0maxis\u001b[0m\u001b[1;33m:\u001b[0m \u001b[0mint\u001b[0m\u001b[1;33m)\u001b[0m\u001b[1;33m:\u001b[0m\u001b[1;33m\u001b[0m\u001b[1;33m\u001b[0m\u001b[0m\n",
      "\u001b[1;32mc:\\ProgramData\\Anaconda3\\lib\\site-packages\\pandas\\core\\indexing.py\u001b[0m in \u001b[0;36m_get_label\u001b[1;34m(self, label, axis)\u001b[0m\n\u001b[0;32m   1057\u001b[0m     \u001b[1;32mdef\u001b[0m \u001b[0m_get_label\u001b[0m\u001b[1;33m(\u001b[0m\u001b[0mself\u001b[0m\u001b[1;33m,\u001b[0m \u001b[0mlabel\u001b[0m\u001b[1;33m,\u001b[0m \u001b[0maxis\u001b[0m\u001b[1;33m:\u001b[0m \u001b[0mint\u001b[0m\u001b[1;33m)\u001b[0m\u001b[1;33m:\u001b[0m\u001b[1;33m\u001b[0m\u001b[1;33m\u001b[0m\u001b[0m\n\u001b[0;32m   1058\u001b[0m         \u001b[1;31m# GH#5667 this will fail if the label is not present in the axis.\u001b[0m\u001b[1;33m\u001b[0m\u001b[1;33m\u001b[0m\u001b[1;33m\u001b[0m\u001b[0m\n\u001b[1;32m-> 1059\u001b[1;33m         \u001b[1;32mreturn\u001b[0m \u001b[0mself\u001b[0m\u001b[1;33m.\u001b[0m\u001b[0mobj\u001b[0m\u001b[1;33m.\u001b[0m\u001b[0mxs\u001b[0m\u001b[1;33m(\u001b[0m\u001b[0mlabel\u001b[0m\u001b[1;33m,\u001b[0m \u001b[0maxis\u001b[0m\u001b[1;33m=\u001b[0m\u001b[0maxis\u001b[0m\u001b[1;33m)\u001b[0m\u001b[1;33m\u001b[0m\u001b[1;33m\u001b[0m\u001b[0m\n\u001b[0m\u001b[0;32m   1060\u001b[0m \u001b[1;33m\u001b[0m\u001b[0m\n\u001b[0;32m   1061\u001b[0m     \u001b[1;32mdef\u001b[0m \u001b[0m_handle_lowerdim_multi_index_axis0\u001b[0m\u001b[1;33m(\u001b[0m\u001b[0mself\u001b[0m\u001b[1;33m,\u001b[0m \u001b[0mtup\u001b[0m\u001b[1;33m:\u001b[0m \u001b[0mTuple\u001b[0m\u001b[1;33m)\u001b[0m\u001b[1;33m:\u001b[0m\u001b[1;33m\u001b[0m\u001b[1;33m\u001b[0m\u001b[0m\n",
      "\u001b[1;32mc:\\ProgramData\\Anaconda3\\lib\\site-packages\\pandas\\core\\generic.py\u001b[0m in \u001b[0;36mxs\u001b[1;34m(self, key, axis, level, drop_level)\u001b[0m\n\u001b[0;32m   3489\u001b[0m             \u001b[0mloc\u001b[0m\u001b[1;33m,\u001b[0m \u001b[0mnew_index\u001b[0m \u001b[1;33m=\u001b[0m \u001b[0mself\u001b[0m\u001b[1;33m.\u001b[0m\u001b[0mindex\u001b[0m\u001b[1;33m.\u001b[0m\u001b[0mget_loc_level\u001b[0m\u001b[1;33m(\u001b[0m\u001b[0mkey\u001b[0m\u001b[1;33m,\u001b[0m \u001b[0mdrop_level\u001b[0m\u001b[1;33m=\u001b[0m\u001b[0mdrop_level\u001b[0m\u001b[1;33m)\u001b[0m\u001b[1;33m\u001b[0m\u001b[1;33m\u001b[0m\u001b[0m\n\u001b[0;32m   3490\u001b[0m         \u001b[1;32melse\u001b[0m\u001b[1;33m:\u001b[0m\u001b[1;33m\u001b[0m\u001b[1;33m\u001b[0m\u001b[0m\n\u001b[1;32m-> 3491\u001b[1;33m             \u001b[0mloc\u001b[0m \u001b[1;33m=\u001b[0m \u001b[0mself\u001b[0m\u001b[1;33m.\u001b[0m\u001b[0mindex\u001b[0m\u001b[1;33m.\u001b[0m\u001b[0mget_loc\u001b[0m\u001b[1;33m(\u001b[0m\u001b[0mkey\u001b[0m\u001b[1;33m)\u001b[0m\u001b[1;33m\u001b[0m\u001b[1;33m\u001b[0m\u001b[0m\n\u001b[0m\u001b[0;32m   3492\u001b[0m \u001b[1;33m\u001b[0m\u001b[0m\n\u001b[0;32m   3493\u001b[0m             \u001b[1;32mif\u001b[0m \u001b[0misinstance\u001b[0m\u001b[1;33m(\u001b[0m\u001b[0mloc\u001b[0m\u001b[1;33m,\u001b[0m \u001b[0mnp\u001b[0m\u001b[1;33m.\u001b[0m\u001b[0mndarray\u001b[0m\u001b[1;33m)\u001b[0m\u001b[1;33m:\u001b[0m\u001b[1;33m\u001b[0m\u001b[1;33m\u001b[0m\u001b[0m\n",
      "\u001b[1;32mc:\\ProgramData\\Anaconda3\\lib\\site-packages\\pandas\\core\\indexes\\base.py\u001b[0m in \u001b[0;36mget_loc\u001b[1;34m(self, key, method, tolerance)\u001b[0m\n\u001b[0;32m   2895\u001b[0m                 \u001b[1;32mreturn\u001b[0m \u001b[0mself\u001b[0m\u001b[1;33m.\u001b[0m\u001b[0m_engine\u001b[0m\u001b[1;33m.\u001b[0m\u001b[0mget_loc\u001b[0m\u001b[1;33m(\u001b[0m\u001b[0mcasted_key\u001b[0m\u001b[1;33m)\u001b[0m\u001b[1;33m\u001b[0m\u001b[1;33m\u001b[0m\u001b[0m\n\u001b[0;32m   2896\u001b[0m             \u001b[1;32mexcept\u001b[0m \u001b[0mKeyError\u001b[0m \u001b[1;32mas\u001b[0m \u001b[0merr\u001b[0m\u001b[1;33m:\u001b[0m\u001b[1;33m\u001b[0m\u001b[1;33m\u001b[0m\u001b[0m\n\u001b[1;32m-> 2897\u001b[1;33m                 \u001b[1;32mraise\u001b[0m \u001b[0mKeyError\u001b[0m\u001b[1;33m(\u001b[0m\u001b[0mkey\u001b[0m\u001b[1;33m)\u001b[0m \u001b[1;32mfrom\u001b[0m \u001b[0merr\u001b[0m\u001b[1;33m\u001b[0m\u001b[1;33m\u001b[0m\u001b[0m\n\u001b[0m\u001b[0;32m   2898\u001b[0m \u001b[1;33m\u001b[0m\u001b[0m\n\u001b[0;32m   2899\u001b[0m         \u001b[1;32mif\u001b[0m \u001b[0mtolerance\u001b[0m \u001b[1;32mis\u001b[0m \u001b[1;32mnot\u001b[0m \u001b[1;32mNone\u001b[0m\u001b[1;33m:\u001b[0m\u001b[1;33m\u001b[0m\u001b[1;33m\u001b[0m\u001b[0m\n",
      "\u001b[1;31mKeyError\u001b[0m: dtype('O')"
     ]
    }
   ],
   "source": [
    "# YOUR CODE HERE\n",
    "\n",
    "thuoctinh = df.dtypes\n",
    "dt = dl =0\n",
    "Dt=[]\n",
    "Dl=[]\n",
    "# df.Manufacturer.dtype\n",
    "# df.Doors.dtype\n",
    "for i in thuoctinh:\n",
    "    if thuoctinh[i].dtype == 'O':\n",
    "        Dt.append(i)\n",
    "        dt+=1\n",
    "    else :\n",
    "        dl+=1\n",
    "        Dl.append(i)\n",
    "\n",
    "print(\"Định tính: \", Dt)\n",
    "print(\"Định lượng: \", Dl) "
   ]
  },
  {
   "cell_type": "markdown",
   "metadata": {},
   "source": [
    "### 4. Trong dữ liệu có thông tin của bao nhiêu xe?\n",
    "\n",
    "Đáp án: 10 xe"
   ]
  },
  {
   "cell_type": "code",
   "execution_count": 68,
   "metadata": {},
   "outputs": [],
   "source": [
    "# YOUR CODE HERE"
   ]
  },
  {
   "cell_type": "markdown",
   "metadata": {},
   "source": [
    "### 5. Đếm số xe theo theo hãng\n",
    "\n",
    "Đáp án: Toyota: 10 xe, Honda: 3 xe, Nissan: 2 xe, BMW: 1 xe"
   ]
  },
  {
   "cell_type": "code",
   "execution_count": 69,
   "metadata": {},
   "outputs": [],
   "source": [
    "# YOUR CODE HERE"
   ]
  },
  {
   "cell_type": "markdown",
   "metadata": {},
   "source": [
    "### 6. Đếm số xe theo màu\n"
   ]
  },
  {
   "cell_type": "code",
   "execution_count": 70,
   "metadata": {},
   "outputs": [],
   "source": [
    "# YOUR CODE HERE"
   ]
  },
  {
   "cell_type": "markdown",
   "metadata": {},
   "source": [
    "### 7. Tổng giá trị các xe trong cửa hàng\n",
    "\n",
    "Đáp án: 76450 USD\n"
   ]
  },
  {
   "cell_type": "code",
   "execution_count": 71,
   "metadata": {},
   "outputs": [],
   "source": [
    "# YOUR CODE HERE"
   ]
  },
  {
   "cell_type": "markdown",
   "metadata": {},
   "source": [
    "### 8. Top 3 xe có giá cao nhất\n"
   ]
  },
  {
   "cell_type": "code",
   "execution_count": 72,
   "metadata": {},
   "outputs": [],
   "source": [
    "# YOUR CODE HERE"
   ]
  },
  {
   "cell_type": "markdown",
   "metadata": {},
   "source": [
    "### 9. Top 3 xe đã chạy nhiều cây số (km)nhất (Odometer)\n",
    "\n",
    "Đáp án:\n",
    "- Xe Nissan, White, 213095 km\n",
    "- Xe Toyota, White, 150043 km\n",
    "- Xe Toyota, Green, 99213 km"
   ]
  },
  {
   "cell_type": "code",
   "execution_count": 73,
   "metadata": {},
   "outputs": [],
   "source": [
    "# YOUR CODE HERE"
   ]
  },
  {
   "cell_type": "markdown",
   "metadata": {},
   "source": [
    "### 10. Khảo sát xe của hãng Honda\n",
    "\n",
    "- Tính tỷ lệ xe Honda trong dữ liệu của cửa hàng (0.3)\n",
    "- Cho biết giá trung bình của xe hãng Honda của cửa hàng (6500)\n",
    "- Cho biết các xe của hãng Honda trong cửa hàng có những màu sắc nào (Red, Blue)"
   ]
  },
  {
   "cell_type": "code",
   "execution_count": 74,
   "metadata": {},
   "outputs": [],
   "source": [
    "# YOUR CODE HERE"
   ]
  },
  {
   "cell_type": "markdown",
   "metadata": {},
   "source": [
    "# 11. Tính toán các giá trị sau của  thuộc tính giá ('Price')\n",
    "\n",
    "- Giá trung bình các xe (7645)\n",
    "- Giá trị trung vị các xe (6625)\n",
    "- Miền giá trị của xe (18500)\n",
    "- Miền phân vị của xe (2750)\n",
    "- Điểm phân vị 0.4 và 0.6 của giá ([5750, 7000])"
   ]
  },
  {
   "cell_type": "code",
   "execution_count": 75,
   "metadata": {},
   "outputs": [],
   "source": [
    "# YOUR CODE HERE"
   ]
  },
  {
   "cell_type": "markdown",
   "metadata": {},
   "source": [
    "---"
   ]
  },
  {
   "cell_type": "code",
   "execution_count": null,
   "metadata": {},
   "outputs": [],
   "source": []
  }
 ],
 "metadata": {
  "colab": {
   "collapsed_sections": [],
   "name": "02_pandas_01_editing.ipynb",
   "provenance": [],
   "toc_visible": true
  },
  "hide_input": false,
  "kernelspec": {
   "display_name": "Python 3",
   "language": "python",
   "name": "python3"
  },
  "language_info": {
   "codemirror_mode": {
    "name": "ipython",
    "version": 3
   },
   "file_extension": ".py",
   "mimetype": "text/x-python",
   "name": "python",
   "nbconvert_exporter": "python",
   "pygments_lexer": "ipython3",
   "version": "3.8.5"
  },
  "toc": {
   "toc_cell": false,
   "toc_number_sections": true,
   "toc_section_display": "none",
   "toc_threshold": 6,
   "toc_window_display": true
  }
 },
 "nbformat": 4,
 "nbformat_minor": 4
}
